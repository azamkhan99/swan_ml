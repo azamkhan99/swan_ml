{
 "cells": [
  {
   "cell_type": "code",
   "execution_count": 1,
   "metadata": {},
   "outputs": [
    {
     "name": "stderr",
     "output_type": "stream",
     "text": [
      "/Users/azamkhan/columbia/climate/swan_ml/.conda/lib/python3.9/site-packages/tqdm/auto.py:21: TqdmWarning: IProgress not found. Please update jupyter and ipywidgets. See https://ipywidgets.readthedocs.io/en/stable/user_install.html\n",
      "  from .autonotebook import tqdm as notebook_tqdm\n"
     ]
    }
   ],
   "source": [
    "import pandas as pd\n",
    "import numpy as np\n",
    "from sklearn.model_selection import train_test_split\n",
    "from sklearn.preprocessing import MinMaxScaler\n",
    "from tensorflow.keras.models import Sequential\n",
    "from tensorflow.keras.layers import Dense\n",
    "from tensorflow.keras.optimizers import Adam\n",
    "import matplotlib.pyplot as plt\n",
    "import seaborn as sns\n",
    "from shap import KernelExplainer, summary_plot\n"
   ]
  },
  {
   "cell_type": "code",
   "execution_count": 2,
   "metadata": {},
   "outputs": [
    {
     "name": "stdout",
     "output_type": "stream",
     "text": [
      "         NO3  DOY  SWATNO3  Streamflow  Precipitation  Evapotranspiration  \\\n",
      "0  4579.0516    1   1557.0     68.2435       0.330769               0.517   \n",
      "1  3446.0388    2    505.4     48.9881       0.101538               0.402   \n",
      "2  2764.1832    3    257.1     38.7940       1.456923               0.782   \n",
      "3  2182.0100    4   1981.0     37.9445       5.001538               0.378   \n",
      "4  3680.8606    5   1667.0     65.1286      12.960000               0.412   \n",
      "\n",
      "        MaxT       MinT  \n",
      "0   2.445385 -10.748462  \n",
      "1  -3.736154 -10.940769  \n",
      "2   1.354615 -10.342308  \n",
      "3   8.511538  -1.980769  \n",
      "4  10.614615  -5.325385  \n",
      "Epoch 1/100\n"
     ]
    },
    {
     "name": "stderr",
     "output_type": "stream",
     "text": [
      "/Users/azamkhan/columbia/climate/swan_ml/.conda/lib/python3.9/site-packages/keras/src/layers/core/dense.py:87: UserWarning: Do not pass an `input_shape`/`input_dim` argument to a layer. When using Sequential models, prefer using an `Input(shape)` object as the first layer in the model instead.\n",
      "  super().__init__(activity_regularizer=activity_regularizer, **kwargs)\n"
     ]
    },
    {
     "name": "stdout",
     "output_type": "stream",
     "text": [
      "\u001b[1m130/130\u001b[0m \u001b[32m━━━━━━━━━━━━━━━━━━━━\u001b[0m\u001b[37m\u001b[0m \u001b[1m1s\u001b[0m 1ms/step - loss: 2593312.2500 - mae: 859.0886 - val_loss: 2225989.0000 - val_mae: 839.0629\n",
      "Epoch 2/100\n",
      "\u001b[1m130/130\u001b[0m \u001b[32m━━━━━━━━━━━━━━━━━━━━\u001b[0m\u001b[37m\u001b[0m \u001b[1m0s\u001b[0m 589us/step - loss: 2364857.7500 - mae: 804.2333 - val_loss: 1923980.7500 - val_mae: 727.8363\n",
      "Epoch 3/100\n",
      "\u001b[1m130/130\u001b[0m \u001b[32m━━━━━━━━━━━━━━━━━━━━\u001b[0m\u001b[37m\u001b[0m \u001b[1m0s\u001b[0m 597us/step - loss: 2495533.0000 - mae: 741.3843 - val_loss: 1694346.0000 - val_mae: 756.1429\n",
      "Epoch 4/100\n",
      "\u001b[1m130/130\u001b[0m \u001b[32m━━━━━━━━━━━━━━━━━━━━\u001b[0m\u001b[37m\u001b[0m \u001b[1m0s\u001b[0m 516us/step - loss: 2416362.7500 - mae: 805.1722 - val_loss: 1646977.0000 - val_mae: 772.9342\n",
      "Epoch 5/100\n",
      "\u001b[1m130/130\u001b[0m \u001b[32m━━━━━━━━━━━━━━━━━━━━\u001b[0m\u001b[37m\u001b[0m \u001b[1m0s\u001b[0m 509us/step - loss: 1806632.3750 - mae: 766.5422 - val_loss: 1611747.7500 - val_mae: 773.7895\n",
      "Epoch 6/100\n",
      "\u001b[1m130/130\u001b[0m \u001b[32m━━━━━━━━━━━━━━━━━━━━\u001b[0m\u001b[37m\u001b[0m \u001b[1m0s\u001b[0m 531us/step - loss: 1906328.2500 - mae: 765.1705 - val_loss: 1574619.1250 - val_mae: 765.6626\n",
      "Epoch 7/100\n",
      "\u001b[1m130/130\u001b[0m \u001b[32m━━━━━━━━━━━━━━━━━━━━\u001b[0m\u001b[37m\u001b[0m \u001b[1m0s\u001b[0m 530us/step - loss: 1730278.7500 - mae: 754.6765 - val_loss: 1534559.1250 - val_mae: 751.9374\n",
      "Epoch 8/100\n",
      "\u001b[1m130/130\u001b[0m \u001b[32m━━━━━━━━━━━━━━━━━━━━\u001b[0m\u001b[37m\u001b[0m \u001b[1m0s\u001b[0m 509us/step - loss: 1822525.6250 - mae: 754.0895 - val_loss: 1486779.6250 - val_mae: 736.7545\n",
      "Epoch 9/100\n",
      "\u001b[1m130/130\u001b[0m \u001b[32m━━━━━━━━━━━━━━━━━━━━\u001b[0m\u001b[37m\u001b[0m \u001b[1m0s\u001b[0m 517us/step - loss: 2023238.3750 - mae: 738.8201 - val_loss: 1434484.5000 - val_mae: 720.9358\n",
      "Epoch 10/100\n",
      "\u001b[1m130/130\u001b[0m \u001b[32m━━━━━━━━━━━━━━━━━━━━\u001b[0m\u001b[37m\u001b[0m \u001b[1m0s\u001b[0m 516us/step - loss: 1504789.5000 - mae: 705.0577 - val_loss: 1378667.8750 - val_mae: 698.8093\n",
      "Epoch 11/100\n",
      "\u001b[1m130/130\u001b[0m \u001b[32m━━━━━━━━━━━━━━━━━━━━\u001b[0m\u001b[37m\u001b[0m \u001b[1m0s\u001b[0m 514us/step - loss: 1708313.6250 - mae: 688.2968 - val_loss: 1315751.5000 - val_mae: 667.0532\n",
      "Epoch 12/100\n",
      "\u001b[1m130/130\u001b[0m \u001b[32m━━━━━━━━━━━━━━━━━━━━\u001b[0m\u001b[37m\u001b[0m \u001b[1m0s\u001b[0m 549us/step - loss: 1245070.5000 - mae: 649.4006 - val_loss: 1252677.1250 - val_mae: 656.0369\n",
      "Epoch 13/100\n",
      "\u001b[1m130/130\u001b[0m \u001b[32m━━━━━━━━━━━━━━━━━━━━\u001b[0m\u001b[37m\u001b[0m \u001b[1m0s\u001b[0m 564us/step - loss: 1298759.6250 - mae: 638.9338 - val_loss: 1192656.3750 - val_mae: 638.4969\n",
      "Epoch 14/100\n",
      "\u001b[1m130/130\u001b[0m \u001b[32m━━━━━━━━━━━━━━━━━━━━\u001b[0m\u001b[37m\u001b[0m \u001b[1m0s\u001b[0m 644us/step - loss: 1698552.8750 - mae: 660.8677 - val_loss: 1135797.0000 - val_mae: 607.0566\n",
      "Epoch 15/100\n",
      "\u001b[1m130/130\u001b[0m \u001b[32m━━━━━━━━━━━━━━━━━━━━\u001b[0m\u001b[37m\u001b[0m \u001b[1m0s\u001b[0m 1ms/step - loss: 1257169.5000 - mae: 616.0714 - val_loss: 1091736.0000 - val_mae: 599.0189\n",
      "Epoch 16/100\n",
      "\u001b[1m130/130\u001b[0m \u001b[32m━━━━━━━━━━━━━━━━━━━━\u001b[0m\u001b[37m\u001b[0m \u001b[1m0s\u001b[0m 647us/step - loss: 1925844.5000 - mae: 606.7138 - val_loss: 1057573.1250 - val_mae: 586.9637\n",
      "Epoch 17/100\n",
      "\u001b[1m130/130\u001b[0m \u001b[32m━━━━━━━━━━━━━━━━━━━━\u001b[0m\u001b[37m\u001b[0m \u001b[1m0s\u001b[0m 518us/step - loss: 1581456.2500 - mae: 605.7642 - val_loss: 1030549.6875 - val_mae: 580.0246\n",
      "Epoch 18/100\n",
      "\u001b[1m130/130\u001b[0m \u001b[32m━━━━━━━━━━━━━━━━━━━━\u001b[0m\u001b[37m\u001b[0m \u001b[1m0s\u001b[0m 506us/step - loss: 1266112.1250 - mae: 576.8775 - val_loss: 1007588.6875 - val_mae: 585.8265\n",
      "Epoch 19/100\n",
      "\u001b[1m130/130\u001b[0m \u001b[32m━━━━━━━━━━━━━━━━━━━━\u001b[0m\u001b[37m\u001b[0m \u001b[1m0s\u001b[0m 521us/step - loss: 1003966.6250 - mae: 576.2779 - val_loss: 988215.7500 - val_mae: 588.8545\n",
      "Epoch 20/100\n",
      "\u001b[1m130/130\u001b[0m \u001b[32m━━━━━━━━━━━━━━━━━━━━\u001b[0m\u001b[37m\u001b[0m \u001b[1m0s\u001b[0m 519us/step - loss: 1120684.1250 - mae: 582.4833 - val_loss: 969200.9375 - val_mae: 587.1906\n",
      "Epoch 21/100\n",
      "\u001b[1m130/130\u001b[0m \u001b[32m━━━━━━━━━━━━━━━━━━━━\u001b[0m\u001b[37m\u001b[0m \u001b[1m0s\u001b[0m 661us/step - loss: 1428353.2500 - mae: 601.6235 - val_loss: 948346.5625 - val_mae: 574.9793\n",
      "Epoch 22/100\n",
      "\u001b[1m130/130\u001b[0m \u001b[32m━━━━━━━━━━━━━━━━━━━━\u001b[0m\u001b[37m\u001b[0m \u001b[1m0s\u001b[0m 506us/step - loss: 1204875.5000 - mae: 583.7740 - val_loss: 928462.4375 - val_mae: 565.5327\n",
      "Epoch 23/100\n",
      "\u001b[1m130/130\u001b[0m \u001b[32m━━━━━━━━━━━━━━━━━━━━\u001b[0m\u001b[37m\u001b[0m \u001b[1m0s\u001b[0m 505us/step - loss: 1030251.3750 - mae: 575.9150 - val_loss: 908280.0625 - val_mae: 557.0402\n",
      "Epoch 24/100\n",
      "\u001b[1m130/130\u001b[0m \u001b[32m━━━━━━━━━━━━━━━━━━━━\u001b[0m\u001b[37m\u001b[0m \u001b[1m0s\u001b[0m 501us/step - loss: 1265671.2500 - mae: 595.8435 - val_loss: 888048.3125 - val_mae: 542.5580\n",
      "Epoch 25/100\n",
      "\u001b[1m130/130\u001b[0m \u001b[32m━━━━━━━━━━━━━━━━━━━━\u001b[0m\u001b[37m\u001b[0m \u001b[1m0s\u001b[0m 515us/step - loss: 1206731.0000 - mae: 549.2677 - val_loss: 867088.1875 - val_mae: 542.0499\n",
      "Epoch 26/100\n",
      "\u001b[1m130/130\u001b[0m \u001b[32m━━━━━━━━━━━━━━━━━━━━\u001b[0m\u001b[37m\u001b[0m \u001b[1m0s\u001b[0m 492us/step - loss: 991291.9375 - mae: 543.3923 - val_loss: 846353.4375 - val_mae: 536.8098\n",
      "Epoch 27/100\n",
      "\u001b[1m130/130\u001b[0m \u001b[32m━━━━━━━━━━━━━━━━━━━━\u001b[0m\u001b[37m\u001b[0m \u001b[1m0s\u001b[0m 511us/step - loss: 1345512.7500 - mae: 547.3647 - val_loss: 824888.6875 - val_mae: 527.5443\n",
      "Epoch 28/100\n",
      "\u001b[1m130/130\u001b[0m \u001b[32m━━━━━━━━━━━━━━━━━━━━\u001b[0m\u001b[37m\u001b[0m \u001b[1m0s\u001b[0m 515us/step - loss: 1048682.5000 - mae: 538.6025 - val_loss: 803468.9375 - val_mae: 512.0405\n",
      "Epoch 29/100\n",
      "\u001b[1m130/130\u001b[0m \u001b[32m━━━━━━━━━━━━━━━━━━━━\u001b[0m\u001b[37m\u001b[0m \u001b[1m0s\u001b[0m 524us/step - loss: 971156.6250 - mae: 524.8195 - val_loss: 782385.6875 - val_mae: 512.6058\n",
      "Epoch 30/100\n",
      "\u001b[1m130/130\u001b[0m \u001b[32m━━━━━━━━━━━━━━━━━━━━\u001b[0m\u001b[37m\u001b[0m \u001b[1m0s\u001b[0m 513us/step - loss: 1077805.8750 - mae: 546.9074 - val_loss: 761073.3750 - val_mae: 491.7464\n",
      "Epoch 31/100\n",
      "\u001b[1m130/130\u001b[0m \u001b[32m━━━━━━━━━━━━━━━━━━━━\u001b[0m\u001b[37m\u001b[0m \u001b[1m0s\u001b[0m 513us/step - loss: 945065.5000 - mae: 492.5443 - val_loss: 740121.5625 - val_mae: 498.4754\n",
      "Epoch 32/100\n",
      "\u001b[1m130/130\u001b[0m \u001b[32m━━━━━━━━━━━━━━━━━━━━\u001b[0m\u001b[37m\u001b[0m \u001b[1m0s\u001b[0m 638us/step - loss: 916129.8125 - mae: 497.7685 - val_loss: 718411.8125 - val_mae: 483.6465\n",
      "Epoch 33/100\n",
      "\u001b[1m130/130\u001b[0m \u001b[32m━━━━━━━━━━━━━━━━━━━━\u001b[0m\u001b[37m\u001b[0m \u001b[1m0s\u001b[0m 498us/step - loss: 860345.8125 - mae: 486.5578 - val_loss: 698008.8125 - val_mae: 473.3720\n",
      "Epoch 34/100\n",
      "\u001b[1m130/130\u001b[0m \u001b[32m━━━━━━━━━━━━━━━━━━━━\u001b[0m\u001b[37m\u001b[0m \u001b[1m0s\u001b[0m 507us/step - loss: 965932.0000 - mae: 485.9060 - val_loss: 678284.7500 - val_mae: 454.8558\n",
      "Epoch 35/100\n",
      "\u001b[1m130/130\u001b[0m \u001b[32m━━━━━━━━━━━━━━━━━━━━\u001b[0m\u001b[37m\u001b[0m \u001b[1m0s\u001b[0m 494us/step - loss: 813644.5000 - mae: 469.2123 - val_loss: 659394.2500 - val_mae: 456.2635\n",
      "Epoch 36/100\n",
      "\u001b[1m130/130\u001b[0m \u001b[32m━━━━━━━━━━━━━━━━━━━━\u001b[0m\u001b[37m\u001b[0m \u001b[1m0s\u001b[0m 505us/step - loss: 1460086.5000 - mae: 473.5392 - val_loss: 641883.6250 - val_mae: 432.9469\n",
      "Epoch 37/100\n",
      "\u001b[1m130/130\u001b[0m \u001b[32m━━━━━━━━━━━━━━━━━━━━\u001b[0m\u001b[37m\u001b[0m \u001b[1m0s\u001b[0m 515us/step - loss: 610597.2500 - mae: 419.7848 - val_loss: 625949.3125 - val_mae: 449.5629\n",
      "Epoch 38/100\n",
      "\u001b[1m130/130\u001b[0m \u001b[32m━━━━━━━━━━━━━━━━━━━━\u001b[0m\u001b[37m\u001b[0m \u001b[1m0s\u001b[0m 522us/step - loss: 888626.3750 - mae: 421.7514 - val_loss: 608096.0000 - val_mae: 416.3172\n",
      "Epoch 39/100\n",
      "\u001b[1m130/130\u001b[0m \u001b[32m━━━━━━━━━━━━━━━━━━━━\u001b[0m\u001b[37m\u001b[0m \u001b[1m0s\u001b[0m 497us/step - loss: 614563.0625 - mae: 409.6739 - val_loss: 593664.9375 - val_mae: 425.2531\n",
      "Epoch 40/100\n",
      "\u001b[1m130/130\u001b[0m \u001b[32m━━━━━━━━━━━━━━━━━━━━\u001b[0m\u001b[37m\u001b[0m \u001b[1m0s\u001b[0m 500us/step - loss: 1557429.0000 - mae: 466.0475 - val_loss: 580415.6875 - val_mae: 397.0271\n",
      "Epoch 41/100\n",
      "\u001b[1m130/130\u001b[0m \u001b[32m━━━━━━━━━━━━━━━━━━━━\u001b[0m\u001b[37m\u001b[0m \u001b[1m0s\u001b[0m 498us/step - loss: 710740.9375 - mae: 393.2737 - val_loss: 566664.0625 - val_mae: 391.1704\n",
      "Epoch 42/100\n",
      "\u001b[1m130/130\u001b[0m \u001b[32m━━━━━━━━━━━━━━━━━━━━\u001b[0m\u001b[37m\u001b[0m \u001b[1m0s\u001b[0m 504us/step - loss: 692652.7500 - mae: 394.3692 - val_loss: 554269.2500 - val_mae: 385.6773\n",
      "Epoch 43/100\n",
      "\u001b[1m130/130\u001b[0m \u001b[32m━━━━━━━━━━━━━━━━━━━━\u001b[0m\u001b[37m\u001b[0m \u001b[1m0s\u001b[0m 525us/step - loss: 897900.6250 - mae: 395.6326 - val_loss: 542880.2500 - val_mae: 387.6132\n",
      "Epoch 44/100\n",
      "\u001b[1m130/130\u001b[0m \u001b[32m━━━━━━━━━━━━━━━━━━━━\u001b[0m\u001b[37m\u001b[0m \u001b[1m0s\u001b[0m 518us/step - loss: 676581.5625 - mae: 382.9619 - val_loss: 533027.3750 - val_mae: 374.2145\n",
      "Epoch 45/100\n",
      "\u001b[1m130/130\u001b[0m \u001b[32m━━━━━━━━━━━━━━━━━━━━\u001b[0m\u001b[37m\u001b[0m \u001b[1m0s\u001b[0m 511us/step - loss: 675908.4375 - mae: 376.5756 - val_loss: 523771.1875 - val_mae: 374.2613\n",
      "Epoch 46/100\n",
      "\u001b[1m130/130\u001b[0m \u001b[32m━━━━━━━━━━━━━━━━━━━━\u001b[0m\u001b[37m\u001b[0m \u001b[1m0s\u001b[0m 636us/step - loss: 555079.8750 - mae: 361.6465 - val_loss: 515226.9688 - val_mae: 369.9962\n",
      "Epoch 47/100\n",
      "\u001b[1m130/130\u001b[0m \u001b[32m━━━━━━━━━━━━━━━━━━━━\u001b[0m\u001b[37m\u001b[0m \u001b[1m0s\u001b[0m 503us/step - loss: 735241.3125 - mae: 369.3322 - val_loss: 507208.9688 - val_mae: 359.9300\n",
      "Epoch 48/100\n",
      "\u001b[1m130/130\u001b[0m \u001b[32m━━━━━━━━━━━━━━━━━━━━\u001b[0m\u001b[37m\u001b[0m \u001b[1m0s\u001b[0m 518us/step - loss: 720855.3125 - mae: 384.2984 - val_loss: 500218.6562 - val_mae: 360.8563\n",
      "Epoch 49/100\n",
      "\u001b[1m130/130\u001b[0m \u001b[32m━━━━━━━━━━━━━━━━━━━━\u001b[0m\u001b[37m\u001b[0m \u001b[1m0s\u001b[0m 513us/step - loss: 1216311.3750 - mae: 387.1799 - val_loss: 493259.9062 - val_mae: 352.8058\n",
      "Epoch 50/100\n",
      "\u001b[1m130/130\u001b[0m \u001b[32m━━━━━━━━━━━━━━━━━━━━\u001b[0m\u001b[37m\u001b[0m \u001b[1m0s\u001b[0m 509us/step - loss: 483579.8125 - mae: 340.7202 - val_loss: 489387.7500 - val_mae: 364.9232\n",
      "Epoch 51/100\n",
      "\u001b[1m130/130\u001b[0m \u001b[32m━━━━━━━━━━━━━━━━━━━━\u001b[0m\u001b[37m\u001b[0m \u001b[1m0s\u001b[0m 507us/step - loss: 739475.5625 - mae: 362.7654 - val_loss: 481470.3750 - val_mae: 346.4029\n",
      "Epoch 52/100\n",
      "\u001b[1m130/130\u001b[0m \u001b[32m━━━━━━━━━━━━━━━━━━━━\u001b[0m\u001b[37m\u001b[0m \u001b[1m0s\u001b[0m 522us/step - loss: 1705979.5000 - mae: 371.4375 - val_loss: 476422.7812 - val_mae: 347.0229\n",
      "Epoch 53/100\n",
      "\u001b[1m130/130\u001b[0m \u001b[32m━━━━━━━━━━━━━━━━━━━━\u001b[0m\u001b[37m\u001b[0m \u001b[1m0s\u001b[0m 521us/step - loss: 598966.6875 - mae: 346.5488 - val_loss: 471109.2500 - val_mae: 341.3617\n",
      "Epoch 54/100\n",
      "\u001b[1m130/130\u001b[0m \u001b[32m━━━━━━━━━━━━━━━━━━━━\u001b[0m\u001b[37m\u001b[0m \u001b[1m0s\u001b[0m 516us/step - loss: 743938.5625 - mae: 350.2331 - val_loss: 466424.4375 - val_mae: 335.5625\n",
      "Epoch 55/100\n",
      "\u001b[1m130/130\u001b[0m \u001b[32m━━━━━━━━━━━━━━━━━━━━\u001b[0m\u001b[37m\u001b[0m \u001b[1m0s\u001b[0m 648us/step - loss: 579543.3750 - mae: 339.0082 - val_loss: 461768.0312 - val_mae: 333.5598\n",
      "Epoch 56/100\n",
      "\u001b[1m130/130\u001b[0m \u001b[32m━━━━━━━━━━━━━━━━━━━━\u001b[0m\u001b[37m\u001b[0m \u001b[1m0s\u001b[0m 510us/step - loss: 751966.2500 - mae: 366.8055 - val_loss: 457439.5312 - val_mae: 336.2190\n",
      "Epoch 57/100\n",
      "\u001b[1m130/130\u001b[0m \u001b[32m━━━━━━━━━━━━━━━━━━━━\u001b[0m\u001b[37m\u001b[0m \u001b[1m0s\u001b[0m 546us/step - loss: 853460.0000 - mae: 343.9279 - val_loss: 452921.9062 - val_mae: 330.9570\n",
      "Epoch 58/100\n",
      "\u001b[1m130/130\u001b[0m \u001b[32m━━━━━━━━━━━━━━━━━━━━\u001b[0m\u001b[37m\u001b[0m \u001b[1m0s\u001b[0m 1ms/step - loss: 593254.7500 - mae: 337.3225 - val_loss: 449294.9062 - val_mae: 333.9846\n",
      "Epoch 59/100\n",
      "\u001b[1m130/130\u001b[0m \u001b[32m━━━━━━━━━━━━━━━━━━━━\u001b[0m\u001b[37m\u001b[0m \u001b[1m0s\u001b[0m 635us/step - loss: 1128885.8750 - mae: 378.3270 - val_loss: 445076.9375 - val_mae: 328.2241\n",
      "Epoch 60/100\n",
      "\u001b[1m130/130\u001b[0m \u001b[32m━━━━━━━━━━━━━━━━━━━━\u001b[0m\u001b[37m\u001b[0m \u001b[1m0s\u001b[0m 528us/step - loss: 1296855.5000 - mae: 357.7627 - val_loss: 440754.1875 - val_mae: 328.2348\n",
      "Epoch 61/100\n",
      "\u001b[1m130/130\u001b[0m \u001b[32m━━━━━━━━━━━━━━━━━━━━\u001b[0m\u001b[37m\u001b[0m \u001b[1m0s\u001b[0m 507us/step - loss: 456449.1875 - mae: 326.9191 - val_loss: 437303.0938 - val_mae: 328.2382\n",
      "Epoch 62/100\n",
      "\u001b[1m130/130\u001b[0m \u001b[32m━━━━━━━━━━━━━━━━━━━━\u001b[0m\u001b[37m\u001b[0m \u001b[1m0s\u001b[0m 509us/step - loss: 858492.3125 - mae: 368.8417 - val_loss: 434206.6875 - val_mae: 321.9165\n",
      "Epoch 63/100\n",
      "\u001b[1m130/130\u001b[0m \u001b[32m━━━━━━━━━━━━━━━━━━━━\u001b[0m\u001b[37m\u001b[0m \u001b[1m0s\u001b[0m 659us/step - loss: 856278.6250 - mae: 328.5497 - val_loss: 430364.0000 - val_mae: 320.3885\n",
      "Epoch 64/100\n",
      "\u001b[1m130/130\u001b[0m \u001b[32m━━━━━━━━━━━━━━━━━━━━\u001b[0m\u001b[37m\u001b[0m \u001b[1m0s\u001b[0m 715us/step - loss: 461896.6562 - mae: 326.8378 - val_loss: 427349.6562 - val_mae: 325.0572\n",
      "Epoch 65/100\n",
      "\u001b[1m130/130\u001b[0m \u001b[32m━━━━━━━━━━━━━━━━━━━━\u001b[0m\u001b[37m\u001b[0m \u001b[1m0s\u001b[0m 602us/step - loss: 1461084.1250 - mae: 371.1032 - val_loss: 423364.1875 - val_mae: 318.1699\n",
      "Epoch 66/100\n",
      "\u001b[1m130/130\u001b[0m \u001b[32m━━━━━━━━━━━━━━━━━━━━\u001b[0m\u001b[37m\u001b[0m \u001b[1m0s\u001b[0m 663us/step - loss: 500651.1875 - mae: 324.5025 - val_loss: 420464.0000 - val_mae: 318.8384\n",
      "Epoch 67/100\n",
      "\u001b[1m130/130\u001b[0m \u001b[32m━━━━━━━━━━━━━━━━━━━━\u001b[0m\u001b[37m\u001b[0m \u001b[1m0s\u001b[0m 616us/step - loss: 1300294.2500 - mae: 347.5192 - val_loss: 418555.0625 - val_mae: 315.3657\n",
      "Epoch 68/100\n",
      "\u001b[1m130/130\u001b[0m \u001b[32m━━━━━━━━━━━━━━━━━━━━\u001b[0m\u001b[37m\u001b[0m \u001b[1m0s\u001b[0m 518us/step - loss: 874463.0000 - mae: 343.6705 - val_loss: 413838.8438 - val_mae: 316.5418\n",
      "Epoch 69/100\n",
      "\u001b[1m130/130\u001b[0m \u001b[32m━━━━━━━━━━━━━━━━━━━━\u001b[0m\u001b[37m\u001b[0m \u001b[1m0s\u001b[0m 657us/step - loss: 746089.4375 - mae: 333.3126 - val_loss: 416120.8438 - val_mae: 319.2915\n",
      "Epoch 70/100\n",
      "\u001b[1m130/130\u001b[0m \u001b[32m━━━━━━━━━━━━━━━━━━━━\u001b[0m\u001b[37m\u001b[0m \u001b[1m0s\u001b[0m 533us/step - loss: 641262.3750 - mae: 323.1133 - val_loss: 408058.0000 - val_mae: 312.5542\n",
      "Epoch 71/100\n",
      "\u001b[1m130/130\u001b[0m \u001b[32m━━━━━━━━━━━━━━━━━━━━\u001b[0m\u001b[37m\u001b[0m \u001b[1m0s\u001b[0m 532us/step - loss: 450736.3438 - mae: 319.7118 - val_loss: 404781.0938 - val_mae: 312.2910\n",
      "Epoch 72/100\n",
      "\u001b[1m130/130\u001b[0m \u001b[32m━━━━━━━━━━━━━━━━━━━━\u001b[0m\u001b[37m\u001b[0m \u001b[1m0s\u001b[0m 627us/step - loss: 505622.6562 - mae: 318.3687 - val_loss: 401825.5625 - val_mae: 311.2280\n",
      "Epoch 73/100\n",
      "\u001b[1m130/130\u001b[0m \u001b[32m━━━━━━━━━━━━━━━━━━━━\u001b[0m\u001b[37m\u001b[0m \u001b[1m0s\u001b[0m 612us/step - loss: 600800.1875 - mae: 330.8258 - val_loss: 399194.5312 - val_mae: 309.6325\n",
      "Epoch 74/100\n",
      "\u001b[1m130/130\u001b[0m \u001b[32m━━━━━━━━━━━━━━━━━━━━\u001b[0m\u001b[37m\u001b[0m \u001b[1m0s\u001b[0m 547us/step - loss: 785640.0625 - mae: 333.7083 - val_loss: 395859.0000 - val_mae: 309.6037\n",
      "Epoch 75/100\n",
      "\u001b[1m130/130\u001b[0m \u001b[32m━━━━━━━━━━━━━━━━━━━━\u001b[0m\u001b[37m\u001b[0m \u001b[1m0s\u001b[0m 704us/step - loss: 1031782.0625 - mae: 331.2524 - val_loss: 392877.5312 - val_mae: 309.3727\n",
      "Epoch 76/100\n",
      "\u001b[1m130/130\u001b[0m \u001b[32m━━━━━━━━━━━━━━━━━━━━\u001b[0m\u001b[37m\u001b[0m \u001b[1m0s\u001b[0m 628us/step - loss: 507095.7500 - mae: 303.4652 - val_loss: 395833.5938 - val_mae: 312.5064\n",
      "Epoch 77/100\n",
      "\u001b[1m130/130\u001b[0m \u001b[32m━━━━━━━━━━━━━━━━━━━━\u001b[0m\u001b[37m\u001b[0m \u001b[1m0s\u001b[0m 622us/step - loss: 599552.1875 - mae: 324.4100 - val_loss: 387354.7188 - val_mae: 305.8607\n",
      "Epoch 78/100\n",
      "\u001b[1m130/130\u001b[0m \u001b[32m━━━━━━━━━━━━━━━━━━━━\u001b[0m\u001b[37m\u001b[0m \u001b[1m0s\u001b[0m 562us/step - loss: 544397.4375 - mae: 332.8027 - val_loss: 384407.6875 - val_mae: 309.4011\n",
      "Epoch 79/100\n",
      "\u001b[1m130/130\u001b[0m \u001b[32m━━━━━━━━━━━━━━━━━━━━\u001b[0m\u001b[37m\u001b[0m \u001b[1m0s\u001b[0m 614us/step - loss: 644543.0000 - mae: 320.2166 - val_loss: 381714.1875 - val_mae: 305.3458\n",
      "Epoch 80/100\n",
      "\u001b[1m130/130\u001b[0m \u001b[32m━━━━━━━━━━━━━━━━━━━━\u001b[0m\u001b[37m\u001b[0m \u001b[1m0s\u001b[0m 675us/step - loss: 627655.8125 - mae: 316.5970 - val_loss: 380697.7500 - val_mae: 303.4949\n",
      "Epoch 81/100\n",
      "\u001b[1m130/130\u001b[0m \u001b[32m━━━━━━━━━━━━━━━━━━━━\u001b[0m\u001b[37m\u001b[0m \u001b[1m0s\u001b[0m 516us/step - loss: 714638.1250 - mae: 329.9807 - val_loss: 376642.9688 - val_mae: 303.0901\n",
      "Epoch 82/100\n",
      "\u001b[1m130/130\u001b[0m \u001b[32m━━━━━━━━━━━━━━━━━━━━\u001b[0m\u001b[37m\u001b[0m \u001b[1m0s\u001b[0m 960us/step - loss: 825986.1250 - mae: 331.0638 - val_loss: 373929.9688 - val_mae: 302.1409\n",
      "Epoch 83/100\n",
      "\u001b[1m130/130\u001b[0m \u001b[32m━━━━━━━━━━━━━━━━━━━━\u001b[0m\u001b[37m\u001b[0m \u001b[1m0s\u001b[0m 553us/step - loss: 618871.0000 - mae: 320.6921 - val_loss: 371024.5000 - val_mae: 300.3278\n",
      "Epoch 84/100\n",
      "\u001b[1m130/130\u001b[0m \u001b[32m━━━━━━━━━━━━━━━━━━━━\u001b[0m\u001b[37m\u001b[0m \u001b[1m0s\u001b[0m 601us/step - loss: 816863.8750 - mae: 327.8231 - val_loss: 369022.2188 - val_mae: 299.4735\n",
      "Epoch 85/100\n",
      "\u001b[1m130/130\u001b[0m \u001b[32m━━━━━━━━━━━━━━━━━━━━\u001b[0m\u001b[37m\u001b[0m \u001b[1m0s\u001b[0m 643us/step - loss: 632144.2500 - mae: 318.1378 - val_loss: 366015.8750 - val_mae: 298.9286\n",
      "Epoch 86/100\n",
      "\u001b[1m130/130\u001b[0m \u001b[32m━━━━━━━━━━━━━━━━━━━━\u001b[0m\u001b[37m\u001b[0m \u001b[1m0s\u001b[0m 586us/step - loss: 504257.0000 - mae: 302.7174 - val_loss: 363885.2500 - val_mae: 298.5362\n",
      "Epoch 87/100\n",
      "\u001b[1m130/130\u001b[0m \u001b[32m━━━━━━━━━━━━━━━━━━━━\u001b[0m\u001b[37m\u001b[0m \u001b[1m0s\u001b[0m 625us/step - loss: 576996.7500 - mae: 311.2360 - val_loss: 361547.7188 - val_mae: 297.2561\n",
      "Epoch 88/100\n",
      "\u001b[1m130/130\u001b[0m \u001b[32m━━━━━━━━━━━━━━━━━━━━\u001b[0m\u001b[37m\u001b[0m \u001b[1m0s\u001b[0m 529us/step - loss: 456776.0312 - mae: 303.2269 - val_loss: 359780.3125 - val_mae: 296.8432\n",
      "Epoch 89/100\n",
      "\u001b[1m130/130\u001b[0m \u001b[32m━━━━━━━━━━━━━━━━━━━━\u001b[0m\u001b[37m\u001b[0m \u001b[1m0s\u001b[0m 569us/step - loss: 703098.0000 - mae: 318.8435 - val_loss: 355889.5938 - val_mae: 297.0999\n",
      "Epoch 90/100\n",
      "\u001b[1m130/130\u001b[0m \u001b[32m━━━━━━━━━━━━━━━━━━━━\u001b[0m\u001b[37m\u001b[0m \u001b[1m0s\u001b[0m 850us/step - loss: 434874.6250 - mae: 301.2754 - val_loss: 354077.4375 - val_mae: 301.5860\n",
      "Epoch 91/100\n",
      "\u001b[1m130/130\u001b[0m \u001b[32m━━━━━━━━━━━━━━━━━━━━\u001b[0m\u001b[37m\u001b[0m \u001b[1m0s\u001b[0m 610us/step - loss: 776003.7500 - mae: 324.2509 - val_loss: 351782.3125 - val_mae: 298.1140\n",
      "Epoch 92/100\n",
      "\u001b[1m130/130\u001b[0m \u001b[32m━━━━━━━━━━━━━━━━━━━━\u001b[0m\u001b[37m\u001b[0m \u001b[1m0s\u001b[0m 553us/step - loss: 676370.3750 - mae: 316.7110 - val_loss: 351038.8750 - val_mae: 294.9528\n",
      "Epoch 93/100\n",
      "\u001b[1m130/130\u001b[0m \u001b[32m━━━━━━━━━━━━━━━━━━━━\u001b[0m\u001b[37m\u001b[0m \u001b[1m0s\u001b[0m 530us/step - loss: 603698.8750 - mae: 302.5807 - val_loss: 347097.1875 - val_mae: 293.7468\n",
      "Epoch 94/100\n",
      "\u001b[1m130/130\u001b[0m \u001b[32m━━━━━━━━━━━━━━━━━━━━\u001b[0m\u001b[37m\u001b[0m \u001b[1m0s\u001b[0m 520us/step - loss: 815402.6250 - mae: 327.3935 - val_loss: 344457.9688 - val_mae: 293.9227\n",
      "Epoch 95/100\n",
      "\u001b[1m130/130\u001b[0m \u001b[32m━━━━━━━━━━━━━━━━━━━━\u001b[0m\u001b[37m\u001b[0m \u001b[1m0s\u001b[0m 507us/step - loss: 538242.4375 - mae: 307.9734 - val_loss: 344746.7500 - val_mae: 294.9913\n",
      "Epoch 96/100\n",
      "\u001b[1m130/130\u001b[0m \u001b[32m━━━━━━━━━━━━━━━━━━━━\u001b[0m\u001b[37m\u001b[0m \u001b[1m0s\u001b[0m 671us/step - loss: 518735.4062 - mae: 308.4639 - val_loss: 340299.3125 - val_mae: 294.9558\n",
      "Epoch 97/100\n",
      "\u001b[1m130/130\u001b[0m \u001b[32m━━━━━━━━━━━━━━━━━━━━\u001b[0m\u001b[37m\u001b[0m \u001b[1m0s\u001b[0m 512us/step - loss: 499957.1250 - mae: 312.1570 - val_loss: 339238.9062 - val_mae: 299.2195\n",
      "Epoch 98/100\n",
      "\u001b[1m130/130\u001b[0m \u001b[32m━━━━━━━━━━━━━━━━━━━━\u001b[0m\u001b[37m\u001b[0m \u001b[1m0s\u001b[0m 509us/step - loss: 1200029.3750 - mae: 330.8015 - val_loss: 335825.0938 - val_mae: 292.1929\n",
      "Epoch 99/100\n",
      "\u001b[1m130/130\u001b[0m \u001b[32m━━━━━━━━━━━━━━━━━━━━\u001b[0m\u001b[37m\u001b[0m \u001b[1m0s\u001b[0m 544us/step - loss: 653722.0000 - mae: 306.8105 - val_loss: 334125.8125 - val_mae: 292.8416\n",
      "Epoch 100/100\n",
      "\u001b[1m130/130\u001b[0m \u001b[32m━━━━━━━━━━━━━━━━━━━━\u001b[0m\u001b[37m\u001b[0m \u001b[1m0s\u001b[0m 663us/step - loss: 555737.1250 - mae: 311.4312 - val_loss: 333705.0000 - val_mae: 290.8246\n",
      "Test MAE: 318.269287109375\n",
      "\u001b[1m163/163\u001b[0m \u001b[32m━━━━━━━━━━━━━━━━━━━━\u001b[0m\u001b[37m\u001b[0m \u001b[1m0s\u001b[0m 343us/step\n",
      "\u001b[1m41/41\u001b[0m \u001b[32m━━━━━━━━━━━━━━━━━━━━\u001b[0m\u001b[37m\u001b[0m \u001b[1m0s\u001b[0m 256us/step\n"
     ]
    },
    {
     "data": {
      "image/png": "[encoded data removed]",
      "text/plain": [
       "<Figure size 1000x600 with 1 Axes>"
      ]
     },
     "metadata": {},
     "output_type": "display_data"
    },
    {
     "name": "stdout",
     "output_type": "stream",
     "text": [
      "R-squared: 0.6870518045537062\n"
     ]
    },
    {
     "data": {
      "image/png": "[encoded data removed]",
      "text/plain": [
       "<Figure size 1200x600 with 1 Axes>"
      ]
     },
     "metadata": {},
     "output_type": "display_data"
    }
   ],
   "source": [
    "\n",
    "# Load the data\n",
    "data = pd.read_csv(\"data/Data NO3.csv\")\n",
    "\n",
    "# View the first few rows of the dataset\n",
    "print(data.head())\n",
    "\n",
    "# Define and apply min-max scaling to the features\n",
    "scaler = MinMaxScaler()\n",
    "features = [\n",
    "    \"DOY\",\n",
    "    \"SWATNO3\",\n",
    "    \"Streamflow\",\n",
    "    \"Precipitation\",\n",
    "    \"MaxT\",\n",
    "    \"MinT\",\n",
    "    \"Evapotranspiration\",\n",
    "]\n",
    "data[features] = scaler.fit_transform(data[features])\n",
    "\n",
    "# Keep the original order by creating an index column\n",
    "data[\"OriginalIndex\"] = range(len(data))\n",
    "\n",
    "# Split the data into training and testing sets\n",
    "X = data[features]\n",
    "y = data[\"NO3\"]\n",
    "X_train, X_test, y_train, y_test = train_test_split(\n",
    "    X, y, test_size=0.2, random_state=123\n",
    ")\n",
    "\n",
    "# Define the neural network model\n",
    "model = Sequential(\n",
    "    [\n",
    "        Dense(64, activation=\"relu\", input_shape=(len(features),)),\n",
    "        Dense(32, activation=\"relu\"),\n",
    "        Dense(1),\n",
    "    ]\n",
    ")\n",
    "\n",
    "# Compile the model\n",
    "model.compile(loss=\"mse\", optimizer=Adam(), metrics=[\"mae\"])\n",
    "\n",
    "# Train the model\n",
    "history = model.fit(\n",
    "    X_train, y_train, epochs=100, batch_size=32, validation_split=0.2, verbose=1\n",
    ")\n",
    "\n",
    "# Evaluate the model on the test data\n",
    "test_loss, test_mae = model.evaluate(X_test, y_test, verbose=0)\n",
    "print(f\"Test MAE: {test_mae}\")\n",
    "\n",
    "# Make predictions on both training and testing data\n",
    "train_predictions = model.predict(X_train)\n",
    "test_predictions = model.predict(X_test)\n",
    "\n",
    "# Combine the original indices, predictions, and actual values into one DataFrame\n",
    "train_results = pd.DataFrame(\n",
    "    {\n",
    "        \"OriginalIndex\": X_train.index,\n",
    "        \"Observations\": y_train,\n",
    "        \"Predicted\": train_predictions.flatten(),\n",
    "        \"Period\": \"Training\",\n",
    "    }\n",
    ")\n",
    "\n",
    "test_results = pd.DataFrame(\n",
    "    {\n",
    "        \"OriginalIndex\": X_test.index,\n",
    "        \"Observations\": y_test,\n",
    "        \"Predicted\": test_predictions.flatten(),\n",
    "        \"Period\": \"Testing\",\n",
    "    }\n",
    ")\n",
    "\n",
    "combined_results = pd.concat([train_results, test_results])\n",
    "combined_results = combined_results.sort_values(\"OriginalIndex\").reset_index(drop=True)\n",
    "\n",
    "# Export the combined data frame to a CSV file\n",
    "combined_results.to_csv(\"model_predictions_tss_chronological.csv\", index=False)\n",
    "\n",
    "# Plot actual vs predicted streamflow\n",
    "plt.figure(figsize=(10, 6))\n",
    "plt.scatter(combined_results[\"Observations\"], combined_results[\"Predicted\"])\n",
    "plt.plot(\n",
    "    [min(combined_results[\"Observations\"]), max(combined_results[\"Observations\"])],\n",
    "    [min(combined_results[\"Observations\"]), max(combined_results[\"Observations\"])],\n",
    "    color=\"red\",\n",
    ")\n",
    "plt.xlabel(\"Actual TSS\")\n",
    "plt.ylabel(\"Predicted TSS\")\n",
    "plt.title(\"Actual vs Predicted TSS\")\n",
    "plt.show()\n",
    "\n",
    "# Calculate R-squared\n",
    "residuals = combined_results[\"Observations\"] - combined_results[\"Predicted\"]\n",
    "ss_res = np.sum(residuals**2)\n",
    "ss_tot = np.sum(\n",
    "    (combined_results[\"Observations\"] - np.mean(combined_results[\"Observations\"])) ** 2\n",
    ")\n",
    "r_squared = 1 - (ss_res / ss_tot)\n",
    "print(f\"R-squared: {r_squared}\")\n",
    "\n",
    "# Line plot\n",
    "plt.figure(figsize=(12, 6))\n",
    "plt.plot(\n",
    "    combined_results[\"OriginalIndex\"],\n",
    "    combined_results[\"Observations\"],\n",
    "    label=\"Observed\",\n",
    ")\n",
    "plt.plot(\n",
    "    combined_results[\"OriginalIndex\"], combined_results[\"Predicted\"], label=\"Simulated\"\n",
    ")\n",
    "plt.xlabel(\"Index\")\n",
    "plt.ylabel(\"TSS\")\n",
    "plt.title(\"Observed vs Simulated TSS\")\n",
    "plt.legend()\n",
    "plt.show()\n",
    "\n",
    "# Assess the importance of each explanatory variable using SHAP\n",
    "# explainer = KernelExplainer(model.predict, X_train)\n",
    "# shap_values = explainer.shap_values(X_test)\n",
    "# summary_plot(shap_values, X_test, plot_type=\"bar\")\n"
   ]
  },
  {
   "cell_type": "code",
   "execution_count": 4,
   "metadata": {},
   "outputs": [
    {
     "name": "stdout",
     "output_type": "stream",
     "text": [
      "Mean Squared Error: 1065522.1853643097\n",
      "Mean Absolute Error: 318.26930458099474\n"
     ]
    }
   ],
   "source": [
    "from sklearn.metrics import mean_squared_error, mean_absolute_error\n",
    "\n",
    "# Calculate the mean squared error\n",
    "mse = mean_squared_error(y_test, test_predictions)\n",
    "print(f\"Mean Squared Error: {mse}\")\n",
    "\n",
    "# Calculate the mean absolute error\n",
    "mae = mean_absolute_error(y_test, test_predictions)\n",
    "print(f\"Mean Absolute Error: {mae}\")"
   ]
  },
  {
   "cell_type": "code",
   "execution_count": 2,
   "metadata": {},
   "outputs": [],
   "source": [
    "import pandas as pd\n",
    "import numpy as np\n",
    "from sklearn.metrics import median_absolute_error, r2_score\n"
   ]
  },
  {
   "cell_type": "code",
   "execution_count": 26,
   "metadata": {},
   "outputs": [],
   "source": [
    "import numpy as np\n",
    "\n",
    "\n",
    "def nse_score(observed, simulated):\n",
    "    \"\"\"\n",
    "    Calculate the Nash-Sutcliffe Efficiency (NSE) between observed and simulated data.\n",
    "\n",
    "    Parameters:\n",
    "    observed (array-like): Array of observed values.\n",
    "    simulated (array-like): Array of simulated/predicted values.\n",
    "\n",
    "    Returns:\n",
    "    float: NSE value.\n",
    "    \"\"\"\n",
    "    observed = np.asarray(observed)\n",
    "    simulated = np.asarray(simulated)\n",
    "\n",
    "    if observed.shape != simulated.shape:\n",
    "        raise ValueError(\"Observed and simulated arrays must have the same shape.\")\n",
    "\n",
    "    numerator = np.sum((simulated - observed) ** 2)\n",
    "    denominator = np.var(observed, ddof=1) * len(observed)\n",
    "\n",
    "    nse = 1 - numerator / denominator\n",
    "    return nse\n",
    "\n",
    "\n",
    "def pbias_score(simulated, observed):\n",
    "    \"\"\"\n",
    "    Calculate Percent Bias (PBIAS)\n",
    "    PBIAS = [Σ(Qo - Qs) * 100] / Σ(Qo)\n",
    "    where:\n",
    "    Qo = observed discharge\n",
    "    Qs = simulated discharge\n",
    "    \"\"\"\n",
    "    numerator = (np.sum(observed) - np.sum(simulated)) * 100\n",
    "    denominator = np.sum(observed)\n",
    "    return numerator / denominator\n"
   ]
  },
  {
   "cell_type": "code",
   "execution_count": 179,
   "metadata": {},
   "outputs": [
    {
     "data": {
      "application/vnd.microsoft.datawrangler.viewer.v0+json": {
       "columns": [
        {
         "name": "index",
         "rawType": "int64",
         "type": "integer"
        },
        {
         "name": "Date",
         "rawType": "datetime64[ns]",
         "type": "datetime"
        },
        {
         "name": "observed",
         "rawType": "float64",
         "type": "float"
        },
        {
         "name": "simulated",
         "rawType": "float64",
         "type": "float"
        }
       ],
       "conversionMethod": "pd.DataFrame",
       "ref": "f795155a-2667-4746-b6b8-5e53eddff636",
       "rows": [
        [
         "0",
         "1993-01-01 00:00:00",
         "727.587922",
         "1019.0"
        ],
        [
         "1",
         "1993-02-01 00:00:00",
         "23.161932800000002",
         "10.81"
        ],
        [
         "2",
         "1993-03-01 00:00:00",
         "12716.462016799998",
         "2930.0"
        ],
        [
         "3",
         "1993-04-01 00:00:00",
         "7869.031317000001",
         "4720.0"
        ],
        [
         "4",
         "1993-05-01 00:00:00",
         "94.67573380000003",
         "724.5"
        ],
        [
         "5",
         "1993-06-01 00:00:00",
         "30.8848914",
         "669.2"
        ],
        [
         "6",
         "1993-07-01 00:00:00",
         "32.6552186",
         "150.4"
        ],
        [
         "7",
         "1993-08-01 00:00:00",
         "7.7123798",
         "124.4"
        ],
        [
         "8",
         "1993-09-01 00:00:00",
         "7.942569400000001",
         "915.5"
        ],
        [
         "9",
         "1993-10-01 00:00:00",
         "9.332462600000003",
         "352.5"
        ],
        [
         "10",
         "1993-11-01 00:00:00",
         "1787.099633",
         "1705.0"
        ],
        [
         "11",
         "1993-12-01 00:00:00",
         "176.32201119999993",
         "1017.0"
        ],
        [
         "12",
         "1994-01-01 00:00:00",
         "174.93571140000003",
         "202.5"
        ],
        [
         "13",
         "1994-02-01 00:00:00",
         "343.5313084",
         "490.0"
        ],
        [
         "14",
         "1994-03-01 00:00:00",
         "2657.3146784000005",
         "2146.0"
        ],
        [
         "15",
         "1994-04-01 00:00:00",
         "4489.878124800001",
         "4673.0"
        ],
        [
         "16",
         "1994-05-01 00:00:00",
         "148.09239860000002",
         "799.5"
        ],
        [
         "17",
         "1994-06-01 00:00:00",
         "184.8122826",
         "1171.0"
        ],
        [
         "18",
         "1994-07-01 00:00:00",
         "169.1252366",
         "1218.0"
        ],
        [
         "19",
         "1994-08-01 00:00:00",
         "674.2169855999999",
         "1746.0"
        ],
        [
         "20",
         "1994-09-01 00:00:00",
         "13.142929399999998",
         "260.2"
        ],
        [
         "21",
         "1994-10-01 00:00:00",
         "6.430394600000001",
         "141.3"
        ],
        [
         "22",
         "1994-11-01 00:00:00",
         "156.3848032536171",
         "594.2"
        ],
        [
         "23",
         "1994-12-01 00:00:00",
         "373.9037852000001",
         "1107.0"
        ],
        [
         "24",
         "1995-01-01 00:00:00",
         "1034.0707464",
         "1083.0"
        ],
        [
         "25",
         "1995-02-01 00:00:00",
         "84.83188480000001",
         "102.1"
        ],
        [
         "26",
         "1995-03-01 00:00:00",
         "1642.2867578000003",
         "2243.0"
        ],
        [
         "27",
         "1995-04-01 00:00:00",
         "306.248098",
         "663.7"
        ],
        [
         "28",
         "1995-05-01 00:00:00",
         "65.64052120000001",
         "312.9"
        ],
        [
         "29",
         "1995-06-01 00:00:00",
         "79.00548879999995",
         "425.5"
        ],
        [
         "30",
         "1995-07-01 00:00:00",
         "30.4538954",
         "630.6"
        ],
        [
         "31",
         "1995-08-01 00:00:00",
         "6.333637800000001",
         "105.7"
        ],
        [
         "32",
         "1995-09-01 00:00:00",
         "8.360919599999999",
         "607.1"
        ],
        [
         "33",
         "1995-10-01 00:00:00",
         "2634.9992192000004",
         "2678.0"
        ],
        [
         "34",
         "1995-11-01 00:00:00",
         "602.1502568000001",
         "1595.0"
        ],
        [
         "35",
         "1995-12-01 00:00:00",
         "40.18680480000002",
         "71.66"
        ],
        [
         "36",
         "1996-01-01 00:00:00",
         "3584.8402244000004",
         "2897.0"
        ],
        [
         "37",
         "1996-02-01 00:00:00",
         "793.5244270000001",
         "2298.0"
        ],
        [
         "38",
         "1996-03-01 00:00:00",
         "298.26089199999996",
         "1371.0"
        ],
        [
         "39",
         "1996-04-01 00:00:00",
         "2516.7171158",
         "1406.0"
        ],
        [
         "40",
         "1996-05-01 00:00:00",
         "4792.0384918",
         "2683.0"
        ],
        [
         "41",
         "1996-06-01 00:00:00",
         "2624.3609638000007",
         "1796.0"
        ],
        [
         "42",
         "1996-07-01 00:00:00",
         "1839.5449986",
         "2224.0"
        ],
        [
         "43",
         "1996-08-01 00:00:00",
         "179.84374459999992",
         "821.0"
        ],
        [
         "44",
         "1996-09-01 00:00:00",
         "103.12573579999999",
         "998.7"
        ],
        [
         "45",
         "1996-10-01 00:00:00",
         "756.4729856",
         "1278.0"
        ],
        [
         "46",
         "1996-11-01 00:00:00",
         "10554.781301000005",
         "2716.0"
        ],
        [
         "47",
         "1996-12-01 00:00:00",
         "5950.931361400001",
         "3347.0"
        ],
        [
         "48",
         "1997-01-01 00:00:00",
         "167.72282479999998",
         "323.1"
        ],
        [
         "49",
         "1997-02-01 00:00:00",
         "1911.3095002",
         "1534.0"
        ]
       ],
       "shape": {
        "columns": 3,
        "rows": 168
       }
      },
      "text/html": [
       "<div>\n",
       "<style scoped>\n",
       "    .dataframe tbody tr th:only-of-type {\n",
       "        vertical-align: middle;\n",
       "    }\n",
       "\n",
       "    .dataframe tbody tr th {\n",
       "        vertical-align: top;\n",
       "    }\n",
       "\n",
       "    .dataframe thead th {\n",
       "        text-align: right;\n",
       "    }\n",
       "</style>\n",
       "<table border=\"1\" class=\"dataframe\">\n",
       "  <thead>\n",
       "    <tr style=\"text-align: right;\">\n",
       "      <th></th>\n",
       "      <th>Date</th>\n",
       "      <th>observed</th>\n",
       "      <th>simulated</th>\n",
       "    </tr>\n",
       "  </thead>\n",
       "  <tbody>\n",
       "    <tr>\n",
       "      <th>0</th>\n",
       "      <td>1993-01-01</td>\n",
       "      <td>727.587922</td>\n",
       "      <td>1019.00</td>\n",
       "    </tr>\n",
       "    <tr>\n",
       "      <th>1</th>\n",
       "      <td>1993-02-01</td>\n",
       "      <td>23.161933</td>\n",
       "      <td>10.81</td>\n",
       "    </tr>\n",
       "    <tr>\n",
       "      <th>2</th>\n",
       "      <td>1993-03-01</td>\n",
       "      <td>12716.462017</td>\n",
       "      <td>2930.00</td>\n",
       "    </tr>\n",
       "    <tr>\n",
       "      <th>3</th>\n",
       "      <td>1993-04-01</td>\n",
       "      <td>7869.031317</td>\n",
       "      <td>4720.00</td>\n",
       "    </tr>\n",
       "    <tr>\n",
       "      <th>4</th>\n",
       "      <td>1993-05-01</td>\n",
       "      <td>94.675734</td>\n",
       "      <td>724.50</td>\n",
       "    </tr>\n",
       "    <tr>\n",
       "      <th>...</th>\n",
       "      <td>...</td>\n",
       "      <td>...</td>\n",
       "      <td>...</td>\n",
       "    </tr>\n",
       "    <tr>\n",
       "      <th>163</th>\n",
       "      <td>2006-08-01</td>\n",
       "      <td>1555.620034</td>\n",
       "      <td>1822.00</td>\n",
       "    </tr>\n",
       "    <tr>\n",
       "      <th>164</th>\n",
       "      <td>2006-09-01</td>\n",
       "      <td>536.341238</td>\n",
       "      <td>1311.00</td>\n",
       "    </tr>\n",
       "    <tr>\n",
       "      <th>165</th>\n",
       "      <td>2006-10-01</td>\n",
       "      <td>8247.448720</td>\n",
       "      <td>1731.00</td>\n",
       "    </tr>\n",
       "    <tr>\n",
       "      <th>166</th>\n",
       "      <td>2006-11-01</td>\n",
       "      <td>9332.619713</td>\n",
       "      <td>2056.00</td>\n",
       "    </tr>\n",
       "    <tr>\n",
       "      <th>167</th>\n",
       "      <td>2006-12-01</td>\n",
       "      <td>497.469119</td>\n",
       "      <td>558.40</td>\n",
       "    </tr>\n",
       "  </tbody>\n",
       "</table>\n",
       "<p>168 rows × 3 columns</p>\n",
       "</div>"
      ],
      "text/plain": [
       "          Date      observed  simulated\n",
       "0   1993-01-01    727.587922    1019.00\n",
       "1   1993-02-01     23.161933      10.81\n",
       "2   1993-03-01  12716.462017    2930.00\n",
       "3   1993-04-01   7869.031317    4720.00\n",
       "4   1993-05-01     94.675734     724.50\n",
       "..         ...           ...        ...\n",
       "163 2006-08-01   1555.620034    1822.00\n",
       "164 2006-09-01    536.341238    1311.00\n",
       "165 2006-10-01   8247.448720    1731.00\n",
       "166 2006-11-01   9332.619713    2056.00\n",
       "167 2006-12-01    497.469119     558.40\n",
       "\n",
       "[168 rows x 3 columns]"
      ]
     },
     "execution_count": 179,
     "metadata": {},
     "output_type": "execute_result"
    }
   ],
   "source": [
    "\n",
    "sediments = pd.read_excel(\"data/SWAT_VSA_Ensemble_Calibration.xlsx\", sheet_name=\"Sediments\", usecols=\"A:C\")\n",
    "sediments = sediments[sediments['Date'] < '2007-01-01']\n",
    "nitrate = pd.read_excel(\"data/SWAT_VSA_Ensemble_Calibration.xlsx\", sheet_name=\"Nitrate\", usecols=\"A:C\")\n",
    "phosphate = pd.read_excel(\"data/SWAT_VSA_Ensemble_Calibration.xlsx\", sheet_name=\"Phosphate\", usecols=\"A:C\")\n",
    "sediments"
   ]
  },
  {
   "cell_type": "code",
   "execution_count": 180,
   "metadata": {},
   "outputs": [],
   "source": [
    "from scipy.stats import pearsonr\n",
    "\n",
    "\n",
    "def r_squared(observed, simulated):\n",
    "    correlation, _ = pearsonr(observed, simulated)\n",
    "    return correlation**2\n"
   ]
  },
  {
   "cell_type": "code",
   "execution_count": 181,
   "metadata": {},
   "outputs": [
    {
     "name": "stdout",
     "output_type": "stream",
     "text": [
      "Sediments: \n",
      "R²: 0.4615510812734416\n",
      "R²2: 0.5155489847728576\n",
      "nse_score: 0.46475613436109964\n",
      "PBIAS: 8.289363941890995\n",
      "---\n",
      "Nitrate: \n",
      "R²: 0.5638636693736798\n",
      "R²2: 0.5893679021474729\n",
      "nse_score: 0.5659112577803762\n",
      "PBIAS: 14.667320923422722\n",
      "---\n",
      "Phosphate: \n",
      "R²: 0.5051843309314517\n",
      "R²2: 0.5123158949594182\n",
      "nse_score: 0.5075074091899895\n",
      "PBIAS: -10.25257882925882\n",
      "---\n"
     ]
    }
   ],
   "source": [
    "r2 = r2_score(sediments[\"observed\"], sediments[\"simulated\"])\n",
    "r22 = r_squared(sediments[\"observed\"], sediments[\"simulated\"])\n",
    "nse_2 = nse_score(sediments[\"observed\"], sediments[\"simulated\"])\n",
    "pbias = pbias_score(sediments[\"simulated\"], sediments[\"observed\"])\n",
    "\n",
    "print(\"Sediments: \")\n",
    "print(f\"R²: {r2}\")\n",
    "print(f\"R²2: {r22}\")\n",
    "print(f\"nse_score: {nse_2}\")\n",
    "print(f\"PBIAS: {pbias}\")\n",
    "print(\"---\")\n",
    "\n",
    "r2_nitrate = r2_score(nitrate[\"Observed\"], nitrate[\"Simulated\"])\n",
    "r22_nitrate = r_squared(nitrate[\"Observed\"], nitrate[\"Simulated\"])\n",
    "nse_2_nitrate = nse_score(nitrate[\"Observed\"], nitrate[\"Simulated\"])\n",
    "pbias_nitrate = pbias_score(nitrate[\"Simulated\"], nitrate[\"Observed\"])\n",
    "\n",
    "print(\"Nitrate: \")\n",
    "print(f\"R²: {r2_nitrate}\")\n",
    "print(f\"R²2: {r22_nitrate}\")\n",
    "print(f\"nse_score: {nse_2_nitrate}\")\n",
    "print(f\"PBIAS: {pbias_nitrate}\")\n",
    "print(\"---\")\n",
    "\n",
    "r2_phosphate = r2_score(phosphate[\"observed\"], phosphate[\"simulated\"])\n",
    "r22_phosphate = r_squared(phosphate[\"observed\"], phosphate[\"simulated\"])\n",
    "nse_2_phosphate = nse_score(phosphate[\"observed\"], phosphate[\"simulated\"])\n",
    "pbias_phosphate = pbias_score(phosphate[\"simulated\"], phosphate[\"observed\"])\n",
    "\n",
    "print(\"Phosphate: \")\n",
    "print(f\"R²: {r2_phosphate}\")\n",
    "print(f\"R²2: {r22_phosphate}\")\n",
    "print(f\"nse_score: {nse_2_phosphate}\")\n",
    "print(f\"PBIAS: {pbias_phosphate}\")\n",
    "print(\"---\")"
   ]
  },
  {
   "cell_type": "code",
   "execution_count": 13,
   "metadata": {},
   "outputs": [
    {
     "name": "stdout",
     "output_type": "stream",
     "text": [
      "Sediments: \n",
      "R²: 0.29417366767186337\n",
      "NSE: -5.56078154549711\n",
      "PBIAS: -30.95029676527204\n",
      "---\n",
      "Nitrate: \n",
      "R²: 0.5638636693736798\n",
      "NSE: 0.3457081509436313\n",
      "PBIAS: -17.188398491813803\n",
      "---\n",
      "Phosphate: \n",
      "R²: 0.5051843309314517\n",
      "NSE: 0.03443637879119299\n",
      "PBIAS: 9.299173713783457\n",
      "---\n"
     ]
    }
   ],
   "source": [
    "r2 = r2_score(sediments[\"observed\"], sediments[\"simulated\"])\n",
    "nse = nse_score(sediments[\"observed\"], sediments[\"simulated\"])\n",
    "pbias = pbias_score(sediments[\"observed\"], sediments[\"simulated\"])\n",
    "\n",
    "print(\"Sediments: \")\n",
    "print(f\"R²: {r2}\")\n",
    "print(f\"NSE: {nse}\")\n",
    "print(f\"PBIAS: {pbias}\")\n",
    "print(\"---\")\n",
    "\n",
    "r2_nitrate = r2_score(nitrate[\"Observed\"], nitrate[\"Simulated\"])\n",
    "nse_nitrate = nse_score(nitrate[\"Observed\"], nitrate[\"Simulated\"])\n",
    "pbias_nitrate = pbias_score(nitrate[\"Observed\"], nitrate[\"Simulated\"])\n",
    "\n",
    "print(\"Nitrate: \")\n",
    "print(f\"R²: {r2_nitrate}\")\n",
    "print(f\"NSE: {nse_nitrate}\")\n",
    "print(f\"PBIAS: {pbias_nitrate}\")\n",
    "print(\"---\")\n",
    "\n",
    "r2_phosphate = r2_score(phosphate[\"observed\"], phosphate[\"simulated\"])\n",
    "nse_phosphate = nse_score(phosphate[\"observed\"], phosphate[\"simulated\"])\n",
    "pbias_phosphate = pbias_score(phosphate[\"observed\"], phosphate[\"simulated\"])\n",
    "\n",
    "print(\"Phosphate: \")\n",
    "print(f\"R²: {r2_phosphate}\")\n",
    "print(f\"NSE: {nse_phosphate}\")\n",
    "print(f\"PBIAS: {pbias_phosphate}\")\n",
    "print(\"---\")\n"
   ]
  }
 ],
 "metadata": {
  "kernelspec": {
   "display_name": "nasa",
   "language": "python",
   "name": "python3"
  },
  "language_info": {
   "codemirror_mode": {
    "name": "ipython",
    "version": 3
   },
   "file_extension": ".py",
   "mimetype": "text/x-python",
   "name": "python",
   "nbconvert_exporter": "python",
   "pygments_lexer": "ipython3",
   "version": "3.11.3"
  }
 },
 "nbformat": 4,
 "nbformat_minor": 2
}
