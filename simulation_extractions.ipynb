{
 "cells": [
  {
   "cell_type": "code",
   "execution_count": null,
   "metadata": {},
   "outputs": [],
   "source": [
    "!pip install pandas\n",
    "!pip install numpy"
   ]
  },
  {
   "cell_type": "code",
   "execution_count": 8,
   "metadata": {},
   "outputs": [],
   "source": [
    "import pandas as pd\n",
    "import numpy as np\n",
    "import os"
   ]
  },
  {
   "cell_type": "markdown",
   "metadata": {},
   "source": [
    "# SWAT Simulations"
   ]
  },
  {
   "cell_type": "code",
   "execution_count": 5,
   "metadata": {},
   "outputs": [],
   "source": [
    "# extract simulated evapotranspiration\n",
    "\n",
    "def extract_et(sub_filepath):\n",
    "    sub_df = pd.read_csv(\n",
    "        sub_filepath, skiprows=5,sep=\"\\s+\")\n",
    "    ETmm = sub_df.loc[sub_df[\"GIS\"] == 6, \"ETmm\"]\n",
    "    et_df = pd.DataFrame(ETmm)\n",
    "    et_df.reset_index(drop=True, inplace=True)\n",
    "    et_df.index = pd.date_range(start=\"1/1/1982\", periods=et_df.shape[0], freq=\"D\")\n",
    "    \n",
    "    return et_df"
   ]
  },
  {
   "cell_type": "code",
   "execution_count": 20,
   "metadata": {},
   "outputs": [],
   "source": [
    "# extract simulated snowmelt\n",
    "\n",
    "def extract_snowmelt(sub_filepath):\n",
    "    sub_df = pd.read_csv(\n",
    "        sub_filepath, skiprows=5,sep=\"\\s+\")\n",
    "    snowmelt = sub_df.loc[sub_df[\"GIS\"] == 52, \"SNOMELTmm\"]\n",
    "    snowmelt_df = pd.DataFrame(snowmelt)\n",
    "    snowmelt_df.reset_index(drop=True, inplace=True)\n",
    "    snowmelt_df.index = pd.date_range(start=\"1/1/1985\", periods=snowmelt_df.shape[0], freq=\"D\")\n",
    "\n",
    "    return snowmelt_df"
   ]
  },
  {
   "cell_type": "code",
   "execution_count": 23,
   "metadata": {},
   "outputs": [
    {
     "name": "stdout",
     "output_type": "stream",
     "text": [
      "Sub file: Daily_CC_Runs/MPI-ESM1-2-HR/LowEmission/sm_output.sub\n",
      "Extracted ET into Extractions/Daily_CC_Runs/MPI-ESM1-2-HR/LowEmission/SM/snowmelt.csv\n",
      "Sub file: Daily_CC_Runs/MPI-ESM1-2-HR/HighEmission/sm_output.sub\n",
      "Extracted ET into Extractions/Daily_CC_Runs/MPI-ESM1-2-HR/HighEmission/SM/snowmelt.csv\n",
      "Sub file: Daily_CC_Runs/MRI-ESM2-0/LowEmission/sm_output.sub\n",
      "Extracted ET into Extractions/Daily_CC_Runs/MRI-ESM2-0/LowEmission/SM/snowmelt.csv\n",
      "Sub file: Daily_CC_Runs/MRI-ESM2-0/HighEmission/sm_output.sub\n",
      "Extracted ET into Extractions/Daily_CC_Runs/MRI-ESM2-0/HighEmission/SM/snowmelt.csv\n",
      "Sub file: Daily_CC_Runs/IPSL-CM6A-LR/LowEmission/sm_output.sub\n",
      "Extracted ET into Extractions/Daily_CC_Runs/IPSL-CM6A-LR/LowEmission/SM/snowmelt.csv\n",
      "Sub file: Daily_CC_Runs/IPSL-CM6A-LR/HighEmission/sm_output.sub\n",
      "Extracted ET into Extractions/Daily_CC_Runs/IPSL-CM6A-LR/HighEmission/SM/snowmelt.csv\n",
      "Sub file: Daily_CC_Runs/GFDL-ESM/LowEmission/sm_output.sub\n",
      "Extracted ET into Extractions/Daily_CC_Runs/GFDL-ESM/LowEmission/SM/snowmelt.csv\n",
      "Sub file: Daily_CC_Runs/GFDL-ESM/HighEmission/sm_output.sub\n",
      "Extracted ET into Extractions/Daily_CC_Runs/GFDL-ESM/HighEmission/SM/snowmelt.csv\n"
     ]
    }
   ],
   "source": [
    "run_dir = \"Daily_CC_Runs\"\n",
    "out_dire = \"Extractions\"\n",
    "for root, dirs, files in os.walk(run_dir):\n",
    "    # print(root, dirs, files)\n",
    "    for file in files:\n",
    "        if file.endswith(\"sm_output.sub\"):\n",
    "            sub_filepath = os.path.join(root, file)\n",
    "            sm_df = extract_snowmelt(sub_filepath)\n",
    "            print(\"Sub file: %s\" % sub_filepath)\n",
    "            out_dir = os.path.join(out_dire, root, \"SM\")\n",
    "            # print(out_dir)\n",
    "            if not os.path.exists(out_dir):\n",
    "                os.makedirs(out_dir)\n",
    "            out_file = os.path.join(out_dir, \"snowmelt.csv\")\n",
    "            # print(\"out_file\", out_file)\n",
    "            sm_df.to_csv(out_file, index=True, header=True)\n",
    "            print(\"Extracted ET into %s\" % out_file)\n"
   ]
  },
  {
   "cell_type": "code",
   "execution_count": 5,
   "metadata": {},
   "outputs": [
    {
     "name": "stdout",
     "output_type": "stream",
     "text": [
      "Sub file: Daily_CC_Runs/MPI-ESM1-2-HR/LowEmission/output.sub\n",
      "Extracted ET into Extractions/Daily_CC_Runs/MPI-ESM1-2-HR/LowEmission/ET/sub6_et.csv\n",
      "Sub file: Daily_CC_Runs/MPI-ESM1-2-HR/HighEmission/output.sub\n",
      "Extracted ET into Extractions/Daily_CC_Runs/MPI-ESM1-2-HR/HighEmission/ET/sub6_et.csv\n",
      "Sub file: Daily_CC_Runs/MRI-ESM2-0/LowEmission/output.sub\n",
      "Extracted ET into Extractions/Daily_CC_Runs/MRI-ESM2-0/LowEmission/ET/sub6_et.csv\n",
      "Sub file: Daily_CC_Runs/MRI-ESM2-0/HighEmission/output.sub\n",
      "Extracted ET into Extractions/Daily_CC_Runs/MRI-ESM2-0/HighEmission/ET/sub6_et.csv\n",
      "Sub file: Daily_CC_Runs/IPSL-CM6A-LR/LowEmission/output.sub\n",
      "Extracted ET into Extractions/Daily_CC_Runs/IPSL-CM6A-LR/LowEmission/ET/sub6_et.csv\n"
     ]
    },
    {
     "ename": "ParserError",
     "evalue": "Error tokenizing data. C error: Calling read(nbytes) on source failed. Try engine='python'.",
     "output_type": "error",
     "traceback": [
      "\u001b[0;31m---------------------------------------------------------------------------\u001b[0m",
      "\u001b[0;31mParserError\u001b[0m                               Traceback (most recent call last)",
      "Cell \u001b[0;32mIn[5], line 8\u001b[0m\n\u001b[1;32m      6\u001b[0m \u001b[38;5;28;01mif\u001b[39;00m file\u001b[38;5;241m.\u001b[39mendswith(\u001b[38;5;124m\"\u001b[39m\u001b[38;5;124m.sub\u001b[39m\u001b[38;5;124m\"\u001b[39m):\n\u001b[1;32m      7\u001b[0m     sub_filepath \u001b[38;5;241m=\u001b[39m os\u001b[38;5;241m.\u001b[39mpath\u001b[38;5;241m.\u001b[39mjoin(root, file)\n\u001b[0;32m----> 8\u001b[0m     et_df \u001b[38;5;241m=\u001b[39m extract_et(sub_filepath)\n\u001b[1;32m      9\u001b[0m     \u001b[38;5;28mprint\u001b[39m(\u001b[38;5;124m\"\u001b[39m\u001b[38;5;124mSub file: \u001b[39m\u001b[38;5;132;01m%s\u001b[39;00m\u001b[38;5;124m\"\u001b[39m \u001b[38;5;241m%\u001b[39m sub_filepath)\n\u001b[1;32m     10\u001b[0m     out_dir \u001b[38;5;241m=\u001b[39m os\u001b[38;5;241m.\u001b[39mpath\u001b[38;5;241m.\u001b[39mjoin(out_dire,root, \u001b[38;5;124m\"\u001b[39m\u001b[38;5;124mET\u001b[39m\u001b[38;5;124m\"\u001b[39m)\n",
      "Cell \u001b[0;32mIn[4], line 4\u001b[0m, in \u001b[0;36mextract_et\u001b[0;34m(sub_filepath)\u001b[0m\n\u001b[1;32m      3\u001b[0m \u001b[38;5;28;01mdef\u001b[39;00m \u001b[38;5;21mextract_et\u001b[39m(sub_filepath):\n\u001b[0;32m----> 4\u001b[0m     sub_df \u001b[38;5;241m=\u001b[39m pd\u001b[38;5;241m.\u001b[39mread_csv(\n\u001b[1;32m      5\u001b[0m         sub_filepath, skiprows\u001b[38;5;241m=\u001b[39m\u001b[38;5;241m5\u001b[39m,sep\u001b[38;5;241m=\u001b[39m\u001b[38;5;124m\"\u001b[39m\u001b[38;5;124m\\\u001b[39m\u001b[38;5;124ms+\u001b[39m\u001b[38;5;124m\"\u001b[39m)\n\u001b[1;32m      6\u001b[0m     ETmm \u001b[38;5;241m=\u001b[39m sub_df\u001b[38;5;241m.\u001b[39mloc[sub_df[\u001b[38;5;124m\"\u001b[39m\u001b[38;5;124mGIS\u001b[39m\u001b[38;5;124m\"\u001b[39m] \u001b[38;5;241m==\u001b[39m \u001b[38;5;241m6\u001b[39m, \u001b[38;5;124m\"\u001b[39m\u001b[38;5;124mETmm\u001b[39m\u001b[38;5;124m\"\u001b[39m]\n\u001b[1;32m      7\u001b[0m     et_df \u001b[38;5;241m=\u001b[39m pd\u001b[38;5;241m.\u001b[39mDataFrame(ETmm)\n",
      "File \u001b[0;32m~/anaconda3/envs/nasa/lib/python3.11/site-packages/pandas/util/_decorators.py:211\u001b[0m, in \u001b[0;36mdeprecate_kwarg.<locals>._deprecate_kwarg.<locals>.wrapper\u001b[0;34m(*args, **kwargs)\u001b[0m\n\u001b[1;32m    209\u001b[0m     \u001b[38;5;28;01melse\u001b[39;00m:\n\u001b[1;32m    210\u001b[0m         kwargs[new_arg_name] \u001b[38;5;241m=\u001b[39m new_arg_value\n\u001b[0;32m--> 211\u001b[0m \u001b[38;5;28;01mreturn\u001b[39;00m func(\u001b[38;5;241m*\u001b[39margs, \u001b[38;5;241m*\u001b[39m\u001b[38;5;241m*\u001b[39mkwargs)\n",
      "File \u001b[0;32m~/anaconda3/envs/nasa/lib/python3.11/site-packages/pandas/util/_decorators.py:331\u001b[0m, in \u001b[0;36mdeprecate_nonkeyword_arguments.<locals>.decorate.<locals>.wrapper\u001b[0;34m(*args, **kwargs)\u001b[0m\n\u001b[1;32m    325\u001b[0m \u001b[38;5;28;01mif\u001b[39;00m \u001b[38;5;28mlen\u001b[39m(args) \u001b[38;5;241m>\u001b[39m num_allow_args:\n\u001b[1;32m    326\u001b[0m     warnings\u001b[38;5;241m.\u001b[39mwarn(\n\u001b[1;32m    327\u001b[0m         msg\u001b[38;5;241m.\u001b[39mformat(arguments\u001b[38;5;241m=\u001b[39m_format_argument_list(allow_args)),\n\u001b[1;32m    328\u001b[0m         \u001b[38;5;167;01mFutureWarning\u001b[39;00m,\n\u001b[1;32m    329\u001b[0m         stacklevel\u001b[38;5;241m=\u001b[39mfind_stack_level(),\n\u001b[1;32m    330\u001b[0m     )\n\u001b[0;32m--> 331\u001b[0m \u001b[38;5;28;01mreturn\u001b[39;00m func(\u001b[38;5;241m*\u001b[39margs, \u001b[38;5;241m*\u001b[39m\u001b[38;5;241m*\u001b[39mkwargs)\n",
      "File \u001b[0;32m~/anaconda3/envs/nasa/lib/python3.11/site-packages/pandas/io/parsers/readers.py:950\u001b[0m, in \u001b[0;36mread_csv\u001b[0;34m(filepath_or_buffer, sep, delimiter, header, names, index_col, usecols, squeeze, prefix, mangle_dupe_cols, dtype, engine, converters, true_values, false_values, skipinitialspace, skiprows, skipfooter, nrows, na_values, keep_default_na, na_filter, verbose, skip_blank_lines, parse_dates, infer_datetime_format, keep_date_col, date_parser, dayfirst, cache_dates, iterator, chunksize, compression, thousands, decimal, lineterminator, quotechar, quoting, doublequote, escapechar, comment, encoding, encoding_errors, dialect, error_bad_lines, warn_bad_lines, on_bad_lines, delim_whitespace, low_memory, memory_map, float_precision, storage_options)\u001b[0m\n\u001b[1;32m    935\u001b[0m kwds_defaults \u001b[38;5;241m=\u001b[39m _refine_defaults_read(\n\u001b[1;32m    936\u001b[0m     dialect,\n\u001b[1;32m    937\u001b[0m     delimiter,\n\u001b[0;32m   (...)\u001b[0m\n\u001b[1;32m    946\u001b[0m     defaults\u001b[38;5;241m=\u001b[39m{\u001b[38;5;124m\"\u001b[39m\u001b[38;5;124mdelimiter\u001b[39m\u001b[38;5;124m\"\u001b[39m: \u001b[38;5;124m\"\u001b[39m\u001b[38;5;124m,\u001b[39m\u001b[38;5;124m\"\u001b[39m},\n\u001b[1;32m    947\u001b[0m )\n\u001b[1;32m    948\u001b[0m kwds\u001b[38;5;241m.\u001b[39mupdate(kwds_defaults)\n\u001b[0;32m--> 950\u001b[0m \u001b[38;5;28;01mreturn\u001b[39;00m _read(filepath_or_buffer, kwds)\n",
      "File \u001b[0;32m~/anaconda3/envs/nasa/lib/python3.11/site-packages/pandas/io/parsers/readers.py:611\u001b[0m, in \u001b[0;36m_read\u001b[0;34m(filepath_or_buffer, kwds)\u001b[0m\n\u001b[1;32m    608\u001b[0m     \u001b[38;5;28;01mreturn\u001b[39;00m parser\n\u001b[1;32m    610\u001b[0m \u001b[38;5;28;01mwith\u001b[39;00m parser:\n\u001b[0;32m--> 611\u001b[0m     \u001b[38;5;28;01mreturn\u001b[39;00m parser\u001b[38;5;241m.\u001b[39mread(nrows)\n",
      "File \u001b[0;32m~/anaconda3/envs/nasa/lib/python3.11/site-packages/pandas/io/parsers/readers.py:1778\u001b[0m, in \u001b[0;36mTextFileReader.read\u001b[0;34m(self, nrows)\u001b[0m\n\u001b[1;32m   1771\u001b[0m nrows \u001b[38;5;241m=\u001b[39m validate_integer(\u001b[38;5;124m\"\u001b[39m\u001b[38;5;124mnrows\u001b[39m\u001b[38;5;124m\"\u001b[39m, nrows)\n\u001b[1;32m   1772\u001b[0m \u001b[38;5;28;01mtry\u001b[39;00m:\n\u001b[1;32m   1773\u001b[0m     \u001b[38;5;66;03m# error: \"ParserBase\" has no attribute \"read\"\u001b[39;00m\n\u001b[1;32m   1774\u001b[0m     (\n\u001b[1;32m   1775\u001b[0m         index,\n\u001b[1;32m   1776\u001b[0m         columns,\n\u001b[1;32m   1777\u001b[0m         col_dict,\n\u001b[0;32m-> 1778\u001b[0m     ) \u001b[38;5;241m=\u001b[39m \u001b[38;5;28mself\u001b[39m\u001b[38;5;241m.\u001b[39m_engine\u001b[38;5;241m.\u001b[39mread(  \u001b[38;5;66;03m# type: ignore[attr-defined]\u001b[39;00m\n\u001b[1;32m   1779\u001b[0m         nrows\n\u001b[1;32m   1780\u001b[0m     )\n\u001b[1;32m   1781\u001b[0m \u001b[38;5;28;01mexcept\u001b[39;00m \u001b[38;5;167;01mException\u001b[39;00m:\n\u001b[1;32m   1782\u001b[0m     \u001b[38;5;28mself\u001b[39m\u001b[38;5;241m.\u001b[39mclose()\n",
      "File \u001b[0;32m~/anaconda3/envs/nasa/lib/python3.11/site-packages/pandas/io/parsers/c_parser_wrapper.py:230\u001b[0m, in \u001b[0;36mCParserWrapper.read\u001b[0;34m(self, nrows)\u001b[0m\n\u001b[1;32m    228\u001b[0m \u001b[38;5;28;01mtry\u001b[39;00m:\n\u001b[1;32m    229\u001b[0m     \u001b[38;5;28;01mif\u001b[39;00m \u001b[38;5;28mself\u001b[39m\u001b[38;5;241m.\u001b[39mlow_memory:\n\u001b[0;32m--> 230\u001b[0m         chunks \u001b[38;5;241m=\u001b[39m \u001b[38;5;28mself\u001b[39m\u001b[38;5;241m.\u001b[39m_reader\u001b[38;5;241m.\u001b[39mread_low_memory(nrows)\n\u001b[1;32m    231\u001b[0m         \u001b[38;5;66;03m# destructive to chunks\u001b[39;00m\n\u001b[1;32m    232\u001b[0m         data \u001b[38;5;241m=\u001b[39m _concatenate_chunks(chunks)\n",
      "File \u001b[0;32m~/anaconda3/envs/nasa/lib/python3.11/site-packages/pandas/_libs/parsers.pyx:808\u001b[0m, in \u001b[0;36mpandas._libs.parsers.TextReader.read_low_memory\u001b[0;34m()\u001b[0m\n",
      "File \u001b[0;32m~/anaconda3/envs/nasa/lib/python3.11/site-packages/pandas/_libs/parsers.pyx:866\u001b[0m, in \u001b[0;36mpandas._libs.parsers.TextReader._read_rows\u001b[0;34m()\u001b[0m\n",
      "File \u001b[0;32m~/anaconda3/envs/nasa/lib/python3.11/site-packages/pandas/_libs/parsers.pyx:852\u001b[0m, in \u001b[0;36mpandas._libs.parsers.TextReader._tokenize_rows\u001b[0;34m()\u001b[0m\n",
      "File \u001b[0;32m~/anaconda3/envs/nasa/lib/python3.11/site-packages/pandas/_libs/parsers.pyx:1973\u001b[0m, in \u001b[0;36mpandas._libs.parsers.raise_parser_error\u001b[0;34m()\u001b[0m\n",
      "\u001b[0;31mParserError\u001b[0m: Error tokenizing data. C error: Calling read(nbytes) on source failed. Try engine='python'."
     ]
    }
   ],
   "source": [
    "run_dir = \"Daily_CC_Runs\"\n",
    "out_dire = \"Extractions\"\n",
    "for root, dirs, files in os.walk(run_dir):\n",
    "    # print(root, dirs, files)\n",
    "    for file in files:\n",
    "        if file.endswith(\".sub\"):\n",
    "            sub_filepath = os.path.join(root, file)\n",
    "            et_df = extract_et(sub_filepath)\n",
    "            print(\"Sub file: %s\" % sub_filepath)\n",
    "            out_dir = os.path.join(out_dire,root, \"ET\")\n",
    "            # print(out_dir)\n",
    "            if not os.path.exists(out_dir):\n",
    "                os.makedirs(out_dir)\n",
    "            out_file = os.path.join(out_dir, \"sub6_et.csv\")\n",
    "            # print(\"out_file\", out_file)\n",
    "            et_df.to_csv(out_file, index=True, header=True)\n",
    "            print(\"Extracted ET into %s\" % out_file)"
   ]
  },
  {
   "cell_type": "code",
   "execution_count": 113,
   "metadata": {},
   "outputs": [],
   "source": [
    "# extract simulated streamflow\n",
    "\n",
    "def extract_streamflow_quality(sub_filepath):\n",
    "    sub_df = pd.read_csv(sub_filepath, skiprows=5, sep=\"\\s+\")\n",
    "    extract_streamflow_quality = sub_df.loc[sub_df[\"RCH\"] == 6]\n",
    "    extract_streamflow_quality.drop(columns=[\"GIS\", \"RCH\", \"MON\", \"AREAkm2\"], inplace=True)\n",
    "    flow_qual_df = pd.DataFrame(extract_streamflow_quality)\n",
    "    flow_qual_df.reset_index(drop=True, inplace=True)\n",
    "    flow_qual_df.index = pd.date_range(start=\"1/1/1982\", periods=flow_qual_df.shape[0], freq=\"D\")\n",
    "\n",
    "    return flow_qual_df"
   ]
  },
  {
   "cell_type": "code",
   "execution_count": 114,
   "metadata": {},
   "outputs": [
    {
     "name": "stderr",
     "output_type": "stream",
     "text": [
      "/var/folders/6l/d525srpn1tl8c1jw2pxxkr3m0000gn/T/ipykernel_83020/1379640739.py:6: SettingWithCopyWarning: \n",
      "A value is trying to be set on a copy of a slice from a DataFrame\n",
      "\n",
      "See the caveats in the documentation: https://pandas.pydata.org/pandas-docs/stable/user_guide/indexing.html#returning-a-view-versus-a-copy\n",
      "  extract_streamflow_quality.drop(columns=[\"GIS\", \"RCH\", \"MON\", \"AREAkm2\"], inplace=True)\n"
     ]
    },
    {
     "name": "stdout",
     "output_type": "stream",
     "text": [
      "Sub file: Daily_CC_Runs/MPI-ESM1-2-HR/LowEmission/output.rch\n",
      "Extracted SWAT Output into Extractions/Daily_CC_Runs/MPI-ESM1-2-HR/LowEmission/SWAT_OUTPUT/rch6_swat_output.csv\n"
     ]
    },
    {
     "name": "stderr",
     "output_type": "stream",
     "text": [
      "/var/folders/6l/d525srpn1tl8c1jw2pxxkr3m0000gn/T/ipykernel_83020/1379640739.py:6: SettingWithCopyWarning: \n",
      "A value is trying to be set on a copy of a slice from a DataFrame\n",
      "\n",
      "See the caveats in the documentation: https://pandas.pydata.org/pandas-docs/stable/user_guide/indexing.html#returning-a-view-versus-a-copy\n",
      "  extract_streamflow_quality.drop(columns=[\"GIS\", \"RCH\", \"MON\", \"AREAkm2\"], inplace=True)\n"
     ]
    },
    {
     "name": "stdout",
     "output_type": "stream",
     "text": [
      "Sub file: Daily_CC_Runs/MPI-ESM1-2-HR/HighEmission/output.rch\n",
      "Extracted SWAT Output into Extractions/Daily_CC_Runs/MPI-ESM1-2-HR/HighEmission/SWAT_OUTPUT/rch6_swat_output.csv\n"
     ]
    },
    {
     "name": "stderr",
     "output_type": "stream",
     "text": [
      "/var/folders/6l/d525srpn1tl8c1jw2pxxkr3m0000gn/T/ipykernel_83020/1379640739.py:6: SettingWithCopyWarning: \n",
      "A value is trying to be set on a copy of a slice from a DataFrame\n",
      "\n",
      "See the caveats in the documentation: https://pandas.pydata.org/pandas-docs/stable/user_guide/indexing.html#returning-a-view-versus-a-copy\n",
      "  extract_streamflow_quality.drop(columns=[\"GIS\", \"RCH\", \"MON\", \"AREAkm2\"], inplace=True)\n"
     ]
    },
    {
     "name": "stdout",
     "output_type": "stream",
     "text": [
      "Sub file: Daily_CC_Runs/MRI-ESM2-0/LowEmission/output.rch\n",
      "Extracted SWAT Output into Extractions/Daily_CC_Runs/MRI-ESM2-0/LowEmission/SWAT_OUTPUT/rch6_swat_output.csv\n"
     ]
    },
    {
     "name": "stderr",
     "output_type": "stream",
     "text": [
      "/var/folders/6l/d525srpn1tl8c1jw2pxxkr3m0000gn/T/ipykernel_83020/1379640739.py:6: SettingWithCopyWarning: \n",
      "A value is trying to be set on a copy of a slice from a DataFrame\n",
      "\n",
      "See the caveats in the documentation: https://pandas.pydata.org/pandas-docs/stable/user_guide/indexing.html#returning-a-view-versus-a-copy\n",
      "  extract_streamflow_quality.drop(columns=[\"GIS\", \"RCH\", \"MON\", \"AREAkm2\"], inplace=True)\n"
     ]
    },
    {
     "name": "stdout",
     "output_type": "stream",
     "text": [
      "Sub file: Daily_CC_Runs/MRI-ESM2-0/HighEmission/output.rch\n",
      "Extracted SWAT Output into Extractions/Daily_CC_Runs/MRI-ESM2-0/HighEmission/SWAT_OUTPUT/rch6_swat_output.csv\n"
     ]
    },
    {
     "name": "stderr",
     "output_type": "stream",
     "text": [
      "/var/folders/6l/d525srpn1tl8c1jw2pxxkr3m0000gn/T/ipykernel_83020/1379640739.py:6: SettingWithCopyWarning: \n",
      "A value is trying to be set on a copy of a slice from a DataFrame\n",
      "\n",
      "See the caveats in the documentation: https://pandas.pydata.org/pandas-docs/stable/user_guide/indexing.html#returning-a-view-versus-a-copy\n",
      "  extract_streamflow_quality.drop(columns=[\"GIS\", \"RCH\", \"MON\", \"AREAkm2\"], inplace=True)\n"
     ]
    },
    {
     "name": "stdout",
     "output_type": "stream",
     "text": [
      "Sub file: Daily_CC_Runs/IPSL-CM6A-LR/LowEmission/output.rch\n",
      "Extracted SWAT Output into Extractions/Daily_CC_Runs/IPSL-CM6A-LR/LowEmission/SWAT_OUTPUT/rch6_swat_output.csv\n"
     ]
    },
    {
     "name": "stderr",
     "output_type": "stream",
     "text": [
      "/var/folders/6l/d525srpn1tl8c1jw2pxxkr3m0000gn/T/ipykernel_83020/1379640739.py:6: SettingWithCopyWarning: \n",
      "A value is trying to be set on a copy of a slice from a DataFrame\n",
      "\n",
      "See the caveats in the documentation: https://pandas.pydata.org/pandas-docs/stable/user_guide/indexing.html#returning-a-view-versus-a-copy\n",
      "  extract_streamflow_quality.drop(columns=[\"GIS\", \"RCH\", \"MON\", \"AREAkm2\"], inplace=True)\n"
     ]
    },
    {
     "name": "stdout",
     "output_type": "stream",
     "text": [
      "Sub file: Daily_CC_Runs/IPSL-CM6A-LR/HighEmission/output.rch\n",
      "Extracted SWAT Output into Extractions/Daily_CC_Runs/IPSL-CM6A-LR/HighEmission/SWAT_OUTPUT/rch6_swat_output.csv\n"
     ]
    },
    {
     "name": "stderr",
     "output_type": "stream",
     "text": [
      "/var/folders/6l/d525srpn1tl8c1jw2pxxkr3m0000gn/T/ipykernel_83020/1379640739.py:6: SettingWithCopyWarning: \n",
      "A value is trying to be set on a copy of a slice from a DataFrame\n",
      "\n",
      "See the caveats in the documentation: https://pandas.pydata.org/pandas-docs/stable/user_guide/indexing.html#returning-a-view-versus-a-copy\n",
      "  extract_streamflow_quality.drop(columns=[\"GIS\", \"RCH\", \"MON\", \"AREAkm2\"], inplace=True)\n"
     ]
    },
    {
     "name": "stdout",
     "output_type": "stream",
     "text": [
      "Sub file: Daily_CC_Runs/GFDL-ESM/LowEmission/output.rch\n",
      "Extracted SWAT Output into Extractions/Daily_CC_Runs/GFDL-ESM/LowEmission/SWAT_OUTPUT/rch6_swat_output.csv\n",
      "Sub file: Daily_CC_Runs/GFDL-ESM/HighEmission/output.rch\n",
      "Extracted SWAT Output into Extractions/Daily_CC_Runs/GFDL-ESM/HighEmission/SWAT_OUTPUT/rch6_swat_output.csv\n"
     ]
    },
    {
     "name": "stderr",
     "output_type": "stream",
     "text": [
      "/var/folders/6l/d525srpn1tl8c1jw2pxxkr3m0000gn/T/ipykernel_83020/1379640739.py:6: SettingWithCopyWarning: \n",
      "A value is trying to be set on a copy of a slice from a DataFrame\n",
      "\n",
      "See the caveats in the documentation: https://pandas.pydata.org/pandas-docs/stable/user_guide/indexing.html#returning-a-view-versus-a-copy\n",
      "  extract_streamflow_quality.drop(columns=[\"GIS\", \"RCH\", \"MON\", \"AREAkm2\"], inplace=True)\n"
     ]
    }
   ],
   "source": [
    "run_dir = \"Daily_CC_Runs\"\n",
    "out_dire = \"Extractions\"\n",
    "for root, dirs, files in os.walk(run_dir):\n",
    "    # print(root, dirs, files)\n",
    "    for file in files:\n",
    "        if file.endswith(\".rch\"):\n",
    "            sub_filepath = os.path.join(root, file)\n",
    "            flow_df = extract_streamflow_quality(sub_filepath)\n",
    "            print(\"Sub file: %s\" % sub_filepath)\n",
    "            out_dir = os.path.join(out_dire, root, \"SWAT_OUTPUT\")\n",
    "            # print(out_dir)\n",
    "            if not os.path.exists(out_dir):\n",
    "                os.makedirs(out_dir)\n",
    "            out_file = os.path.join(out_dir, \"rch6_swat_output.csv\")\n",
    "            # print(\"out_file\", out_file)\n",
    "            flow_df.to_csv(out_file, index=True, header=True)\n",
    "            print(\"Extracted SWAT Output into %s\" % out_file)\n"
   ]
  },
  {
   "cell_type": "markdown",
   "metadata": {},
   "source": [
    "# Future Climate Data"
   ]
  },
  {
   "cell_type": "code",
   "execution_count": 86,
   "metadata": {},
   "outputs": [],
   "source": [
    "# read multiple sheets from an excel file into separate dataframes\n",
    "\n",
    "def read_excel_sheets(excel_file):\n",
    "    xls = pd.ExcelFile(excel_file)\n",
    "    sheet_names = xls.sheet_names\n",
    "    print(\"Sheet names: %s\" % sheet_names)\n",
    "    dfs = {}\n",
    "    for sheet in sheet_names:\n",
    "        df = pd.read_excel(excel_file, sheet_name=sheet)\n",
    "        dfs[sheet] = df\n",
    "    return dfs"
   ]
  },
  {
   "cell_type": "code",
   "execution_count": 87,
   "metadata": {},
   "outputs": [
    {
     "name": "stdout",
     "output_type": "stream",
     "text": [
      "Sheet names: ['Location', 'GFDL-ESM4_ssp126', 'IPSL-CM6A-LR_ssp126', 'MPI-ESM1-2-HR_ssp126', 'MRI-ESM2-0_ssp126', 'UKESM1-0-LL_ssp126', 'GFDL-ESM4_ssp370', 'IPSL-CM6A-LR_ssp370', 'MPI-ESM1-2-HR_ssp370', 'MRI-ESM2-0_ssp370', 'UKESM1-0-LL_ssp370']\n",
      "Sheet names: ['Location', 'GFDL-ESM4_ssp126', 'IPSL-CM6A-LR_ssp126', 'MPI-ESM1-2-HR_ssp126', 'MRI-ESM2-0_ssp126', 'UKESM1-0-LL_ssp126', 'GFDL-ESM4_ssp370', 'IPSL-CM6A-LR_ssp370', 'MPI-ESM1-2-HR_ssp370', 'MRI-ESM2-0_ssp370', 'UKESM1-0-LL_ssp370']\n"
     ]
    }
   ],
   "source": [
    "location1 = read_excel_sheets(\"FutureClimateData/Location1_Delhi_GCM_1979-2065.xlsx\")\n",
    "location2 = read_excel_sheets(\"FutureClimateData/Location2_Walton_GCM_1979-2065.xlsx\")"
   ]
  },
  {
   "cell_type": "code",
   "execution_count": 88,
   "metadata": {},
   "outputs": [
    {
     "name": "stderr",
     "output_type": "stream",
     "text": [
      "/var/folders/6l/d525srpn1tl8c1jw2pxxkr3m0000gn/T/ipykernel_83020/913056505.py:14: SettingWithCopyWarning: \n",
      "A value is trying to be set on a copy of a slice from a DataFrame\n",
      "\n",
      "See the caveats in the documentation: https://pandas.pydata.org/pandas-docs/stable/user_guide/indexing.html#returning-a-view-versus-a-copy\n",
      "  extracted_df.rename(columns={\"YYYY\": \"year\", \"MM\": \"month\", \"DD\": \"day\"}, inplace=True)\n",
      "/var/folders/6l/d525srpn1tl8c1jw2pxxkr3m0000gn/T/ipykernel_83020/913056505.py:15: SettingWithCopyWarning: \n",
      "A value is trying to be set on a copy of a slice from a DataFrame.\n",
      "Try using .loc[row_indexer,col_indexer] = value instead\n",
      "\n",
      "See the caveats in the documentation: https://pandas.pydata.org/pandas-docs/stable/user_guide/indexing.html#returning-a-view-versus-a-copy\n",
      "  extracted_df['Date'] = pd.to_datetime(extracted_df[[\"year\", \"month\", \"day\"]])\n",
      "/var/folders/6l/d525srpn1tl8c1jw2pxxkr3m0000gn/T/ipykernel_83020/913056505.py:17: SettingWithCopyWarning: \n",
      "A value is trying to be set on a copy of a slice from a DataFrame\n",
      "\n",
      "See the caveats in the documentation: https://pandas.pydata.org/pandas-docs/stable/user_guide/indexing.html#returning-a-view-versus-a-copy\n",
      "  extracted_df.drop(columns=[\"year\", \"month\", \"day\"], inplace=True)\n",
      "/var/folders/6l/d525srpn1tl8c1jw2pxxkr3m0000gn/T/ipykernel_83020/913056505.py:14: SettingWithCopyWarning: \n",
      "A value is trying to be set on a copy of a slice from a DataFrame\n",
      "\n",
      "See the caveats in the documentation: https://pandas.pydata.org/pandas-docs/stable/user_guide/indexing.html#returning-a-view-versus-a-copy\n",
      "  extracted_df.rename(columns={\"YYYY\": \"year\", \"MM\": \"month\", \"DD\": \"day\"}, inplace=True)\n",
      "/var/folders/6l/d525srpn1tl8c1jw2pxxkr3m0000gn/T/ipykernel_83020/913056505.py:15: SettingWithCopyWarning: \n",
      "A value is trying to be set on a copy of a slice from a DataFrame.\n",
      "Try using .loc[row_indexer,col_indexer] = value instead\n",
      "\n",
      "See the caveats in the documentation: https://pandas.pydata.org/pandas-docs/stable/user_guide/indexing.html#returning-a-view-versus-a-copy\n",
      "  extracted_df['Date'] = pd.to_datetime(extracted_df[[\"year\", \"month\", \"day\"]])\n",
      "/var/folders/6l/d525srpn1tl8c1jw2pxxkr3m0000gn/T/ipykernel_83020/913056505.py:17: SettingWithCopyWarning: \n",
      "A value is trying to be set on a copy of a slice from a DataFrame\n",
      "\n",
      "See the caveats in the documentation: https://pandas.pydata.org/pandas-docs/stable/user_guide/indexing.html#returning-a-view-versus-a-copy\n",
      "  extracted_df.drop(columns=[\"year\", \"month\", \"day\"], inplace=True)\n",
      "/var/folders/6l/d525srpn1tl8c1jw2pxxkr3m0000gn/T/ipykernel_83020/913056505.py:14: SettingWithCopyWarning: \n",
      "A value is trying to be set on a copy of a slice from a DataFrame\n",
      "\n",
      "See the caveats in the documentation: https://pandas.pydata.org/pandas-docs/stable/user_guide/indexing.html#returning-a-view-versus-a-copy\n",
      "  extracted_df.rename(columns={\"YYYY\": \"year\", \"MM\": \"month\", \"DD\": \"day\"}, inplace=True)\n",
      "/var/folders/6l/d525srpn1tl8c1jw2pxxkr3m0000gn/T/ipykernel_83020/913056505.py:15: SettingWithCopyWarning: \n",
      "A value is trying to be set on a copy of a slice from a DataFrame.\n",
      "Try using .loc[row_indexer,col_indexer] = value instead\n",
      "\n",
      "See the caveats in the documentation: https://pandas.pydata.org/pandas-docs/stable/user_guide/indexing.html#returning-a-view-versus-a-copy\n",
      "  extracted_df['Date'] = pd.to_datetime(extracted_df[[\"year\", \"month\", \"day\"]])\n",
      "/var/folders/6l/d525srpn1tl8c1jw2pxxkr3m0000gn/T/ipykernel_83020/913056505.py:17: SettingWithCopyWarning: \n",
      "A value is trying to be set on a copy of a slice from a DataFrame\n",
      "\n",
      "See the caveats in the documentation: https://pandas.pydata.org/pandas-docs/stable/user_guide/indexing.html#returning-a-view-versus-a-copy\n",
      "  extracted_df.drop(columns=[\"year\", \"month\", \"day\"], inplace=True)\n",
      "/var/folders/6l/d525srpn1tl8c1jw2pxxkr3m0000gn/T/ipykernel_83020/913056505.py:14: SettingWithCopyWarning: \n",
      "A value is trying to be set on a copy of a slice from a DataFrame\n",
      "\n",
      "See the caveats in the documentation: https://pandas.pydata.org/pandas-docs/stable/user_guide/indexing.html#returning-a-view-versus-a-copy\n",
      "  extracted_df.rename(columns={\"YYYY\": \"year\", \"MM\": \"month\", \"DD\": \"day\"}, inplace=True)\n",
      "/var/folders/6l/d525srpn1tl8c1jw2pxxkr3m0000gn/T/ipykernel_83020/913056505.py:15: SettingWithCopyWarning: \n",
      "A value is trying to be set on a copy of a slice from a DataFrame.\n",
      "Try using .loc[row_indexer,col_indexer] = value instead\n",
      "\n",
      "See the caveats in the documentation: https://pandas.pydata.org/pandas-docs/stable/user_guide/indexing.html#returning-a-view-versus-a-copy\n",
      "  extracted_df['Date'] = pd.to_datetime(extracted_df[[\"year\", \"month\", \"day\"]])\n",
      "/var/folders/6l/d525srpn1tl8c1jw2pxxkr3m0000gn/T/ipykernel_83020/913056505.py:17: SettingWithCopyWarning: \n",
      "A value is trying to be set on a copy of a slice from a DataFrame\n",
      "\n",
      "See the caveats in the documentation: https://pandas.pydata.org/pandas-docs/stable/user_guide/indexing.html#returning-a-view-versus-a-copy\n",
      "  extracted_df.drop(columns=[\"year\", \"month\", \"day\"], inplace=True)\n",
      "/var/folders/6l/d525srpn1tl8c1jw2pxxkr3m0000gn/T/ipykernel_83020/913056505.py:14: SettingWithCopyWarning: \n",
      "A value is trying to be set on a copy of a slice from a DataFrame\n",
      "\n",
      "See the caveats in the documentation: https://pandas.pydata.org/pandas-docs/stable/user_guide/indexing.html#returning-a-view-versus-a-copy\n",
      "  extracted_df.rename(columns={\"YYYY\": \"year\", \"MM\": \"month\", \"DD\": \"day\"}, inplace=True)\n",
      "/var/folders/6l/d525srpn1tl8c1jw2pxxkr3m0000gn/T/ipykernel_83020/913056505.py:15: SettingWithCopyWarning: \n",
      "A value is trying to be set on a copy of a slice from a DataFrame.\n",
      "Try using .loc[row_indexer,col_indexer] = value instead\n",
      "\n",
      "See the caveats in the documentation: https://pandas.pydata.org/pandas-docs/stable/user_guide/indexing.html#returning-a-view-versus-a-copy\n",
      "  extracted_df['Date'] = pd.to_datetime(extracted_df[[\"year\", \"month\", \"day\"]])\n",
      "/var/folders/6l/d525srpn1tl8c1jw2pxxkr3m0000gn/T/ipykernel_83020/913056505.py:17: SettingWithCopyWarning: \n",
      "A value is trying to be set on a copy of a slice from a DataFrame\n",
      "\n",
      "See the caveats in the documentation: https://pandas.pydata.org/pandas-docs/stable/user_guide/indexing.html#returning-a-view-versus-a-copy\n",
      "  extracted_df.drop(columns=[\"year\", \"month\", \"day\"], inplace=True)\n",
      "/var/folders/6l/d525srpn1tl8c1jw2pxxkr3m0000gn/T/ipykernel_83020/913056505.py:14: SettingWithCopyWarning: \n",
      "A value is trying to be set on a copy of a slice from a DataFrame\n",
      "\n",
      "See the caveats in the documentation: https://pandas.pydata.org/pandas-docs/stable/user_guide/indexing.html#returning-a-view-versus-a-copy\n",
      "  extracted_df.rename(columns={\"YYYY\": \"year\", \"MM\": \"month\", \"DD\": \"day\"}, inplace=True)\n",
      "/var/folders/6l/d525srpn1tl8c1jw2pxxkr3m0000gn/T/ipykernel_83020/913056505.py:15: SettingWithCopyWarning: \n",
      "A value is trying to be set on a copy of a slice from a DataFrame.\n",
      "Try using .loc[row_indexer,col_indexer] = value instead\n",
      "\n",
      "See the caveats in the documentation: https://pandas.pydata.org/pandas-docs/stable/user_guide/indexing.html#returning-a-view-versus-a-copy\n",
      "  extracted_df['Date'] = pd.to_datetime(extracted_df[[\"year\", \"month\", \"day\"]])\n",
      "/var/folders/6l/d525srpn1tl8c1jw2pxxkr3m0000gn/T/ipykernel_83020/913056505.py:17: SettingWithCopyWarning: \n",
      "A value is trying to be set on a copy of a slice from a DataFrame\n",
      "\n",
      "See the caveats in the documentation: https://pandas.pydata.org/pandas-docs/stable/user_guide/indexing.html#returning-a-view-versus-a-copy\n",
      "  extracted_df.drop(columns=[\"year\", \"month\", \"day\"], inplace=True)\n",
      "/var/folders/6l/d525srpn1tl8c1jw2pxxkr3m0000gn/T/ipykernel_83020/913056505.py:14: SettingWithCopyWarning: \n",
      "A value is trying to be set on a copy of a slice from a DataFrame\n",
      "\n",
      "See the caveats in the documentation: https://pandas.pydata.org/pandas-docs/stable/user_guide/indexing.html#returning-a-view-versus-a-copy\n",
      "  extracted_df.rename(columns={\"YYYY\": \"year\", \"MM\": \"month\", \"DD\": \"day\"}, inplace=True)\n",
      "/var/folders/6l/d525srpn1tl8c1jw2pxxkr3m0000gn/T/ipykernel_83020/913056505.py:15: SettingWithCopyWarning: \n",
      "A value is trying to be set on a copy of a slice from a DataFrame.\n",
      "Try using .loc[row_indexer,col_indexer] = value instead\n",
      "\n",
      "See the caveats in the documentation: https://pandas.pydata.org/pandas-docs/stable/user_guide/indexing.html#returning-a-view-versus-a-copy\n",
      "  extracted_df['Date'] = pd.to_datetime(extracted_df[[\"year\", \"month\", \"day\"]])\n",
      "/var/folders/6l/d525srpn1tl8c1jw2pxxkr3m0000gn/T/ipykernel_83020/913056505.py:17: SettingWithCopyWarning: \n",
      "A value is trying to be set on a copy of a slice from a DataFrame\n",
      "\n",
      "See the caveats in the documentation: https://pandas.pydata.org/pandas-docs/stable/user_guide/indexing.html#returning-a-view-versus-a-copy\n",
      "  extracted_df.drop(columns=[\"year\", \"month\", \"day\"], inplace=True)\n",
      "/var/folders/6l/d525srpn1tl8c1jw2pxxkr3m0000gn/T/ipykernel_83020/913056505.py:14: SettingWithCopyWarning: \n",
      "A value is trying to be set on a copy of a slice from a DataFrame\n",
      "\n",
      "See the caveats in the documentation: https://pandas.pydata.org/pandas-docs/stable/user_guide/indexing.html#returning-a-view-versus-a-copy\n",
      "  extracted_df.rename(columns={\"YYYY\": \"year\", \"MM\": \"month\", \"DD\": \"day\"}, inplace=True)\n",
      "/var/folders/6l/d525srpn1tl8c1jw2pxxkr3m0000gn/T/ipykernel_83020/913056505.py:15: SettingWithCopyWarning: \n",
      "A value is trying to be set on a copy of a slice from a DataFrame.\n",
      "Try using .loc[row_indexer,col_indexer] = value instead\n",
      "\n",
      "See the caveats in the documentation: https://pandas.pydata.org/pandas-docs/stable/user_guide/indexing.html#returning-a-view-versus-a-copy\n",
      "  extracted_df['Date'] = pd.to_datetime(extracted_df[[\"year\", \"month\", \"day\"]])\n",
      "/var/folders/6l/d525srpn1tl8c1jw2pxxkr3m0000gn/T/ipykernel_83020/913056505.py:17: SettingWithCopyWarning: \n",
      "A value is trying to be set on a copy of a slice from a DataFrame\n",
      "\n",
      "See the caveats in the documentation: https://pandas.pydata.org/pandas-docs/stable/user_guide/indexing.html#returning-a-view-versus-a-copy\n",
      "  extracted_df.drop(columns=[\"year\", \"month\", \"day\"], inplace=True)\n",
      "/var/folders/6l/d525srpn1tl8c1jw2pxxkr3m0000gn/T/ipykernel_83020/913056505.py:14: SettingWithCopyWarning: \n",
      "A value is trying to be set on a copy of a slice from a DataFrame\n",
      "\n",
      "See the caveats in the documentation: https://pandas.pydata.org/pandas-docs/stable/user_guide/indexing.html#returning-a-view-versus-a-copy\n",
      "  extracted_df.rename(columns={\"YYYY\": \"year\", \"MM\": \"month\", \"DD\": \"day\"}, inplace=True)\n",
      "/var/folders/6l/d525srpn1tl8c1jw2pxxkr3m0000gn/T/ipykernel_83020/913056505.py:15: SettingWithCopyWarning: \n",
      "A value is trying to be set on a copy of a slice from a DataFrame.\n",
      "Try using .loc[row_indexer,col_indexer] = value instead\n",
      "\n",
      "See the caveats in the documentation: https://pandas.pydata.org/pandas-docs/stable/user_guide/indexing.html#returning-a-view-versus-a-copy\n",
      "  extracted_df['Date'] = pd.to_datetime(extracted_df[[\"year\", \"month\", \"day\"]])\n",
      "/var/folders/6l/d525srpn1tl8c1jw2pxxkr3m0000gn/T/ipykernel_83020/913056505.py:17: SettingWithCopyWarning: \n",
      "A value is trying to be set on a copy of a slice from a DataFrame\n",
      "\n",
      "See the caveats in the documentation: https://pandas.pydata.org/pandas-docs/stable/user_guide/indexing.html#returning-a-view-versus-a-copy\n",
      "  extracted_df.drop(columns=[\"year\", \"month\", \"day\"], inplace=True)\n",
      "/var/folders/6l/d525srpn1tl8c1jw2pxxkr3m0000gn/T/ipykernel_83020/913056505.py:14: SettingWithCopyWarning: \n",
      "A value is trying to be set on a copy of a slice from a DataFrame\n",
      "\n",
      "See the caveats in the documentation: https://pandas.pydata.org/pandas-docs/stable/user_guide/indexing.html#returning-a-view-versus-a-copy\n",
      "  extracted_df.rename(columns={\"YYYY\": \"year\", \"MM\": \"month\", \"DD\": \"day\"}, inplace=True)\n",
      "/var/folders/6l/d525srpn1tl8c1jw2pxxkr3m0000gn/T/ipykernel_83020/913056505.py:15: SettingWithCopyWarning: \n",
      "A value is trying to be set on a copy of a slice from a DataFrame.\n",
      "Try using .loc[row_indexer,col_indexer] = value instead\n",
      "\n",
      "See the caveats in the documentation: https://pandas.pydata.org/pandas-docs/stable/user_guide/indexing.html#returning-a-view-versus-a-copy\n",
      "  extracted_df['Date'] = pd.to_datetime(extracted_df[[\"year\", \"month\", \"day\"]])\n",
      "/var/folders/6l/d525srpn1tl8c1jw2pxxkr3m0000gn/T/ipykernel_83020/913056505.py:17: SettingWithCopyWarning: \n",
      "A value is trying to be set on a copy of a slice from a DataFrame\n",
      "\n",
      "See the caveats in the documentation: https://pandas.pydata.org/pandas-docs/stable/user_guide/indexing.html#returning-a-view-versus-a-copy\n",
      "  extracted_df.drop(columns=[\"year\", \"month\", \"day\"], inplace=True)\n",
      "/var/folders/6l/d525srpn1tl8c1jw2pxxkr3m0000gn/T/ipykernel_83020/913056505.py:14: SettingWithCopyWarning: \n",
      "A value is trying to be set on a copy of a slice from a DataFrame\n",
      "\n",
      "See the caveats in the documentation: https://pandas.pydata.org/pandas-docs/stable/user_guide/indexing.html#returning-a-view-versus-a-copy\n",
      "  extracted_df.rename(columns={\"YYYY\": \"year\", \"MM\": \"month\", \"DD\": \"day\"}, inplace=True)\n",
      "/var/folders/6l/d525srpn1tl8c1jw2pxxkr3m0000gn/T/ipykernel_83020/913056505.py:15: SettingWithCopyWarning: \n",
      "A value is trying to be set on a copy of a slice from a DataFrame.\n",
      "Try using .loc[row_indexer,col_indexer] = value instead\n",
      "\n",
      "See the caveats in the documentation: https://pandas.pydata.org/pandas-docs/stable/user_guide/indexing.html#returning-a-view-versus-a-copy\n",
      "  extracted_df['Date'] = pd.to_datetime(extracted_df[[\"year\", \"month\", \"day\"]])\n",
      "/var/folders/6l/d525srpn1tl8c1jw2pxxkr3m0000gn/T/ipykernel_83020/913056505.py:17: SettingWithCopyWarning: \n",
      "A value is trying to be set on a copy of a slice from a DataFrame\n",
      "\n",
      "See the caveats in the documentation: https://pandas.pydata.org/pandas-docs/stable/user_guide/indexing.html#returning-a-view-versus-a-copy\n",
      "  extracted_df.drop(columns=[\"year\", \"month\", \"day\"], inplace=True)\n",
      "/var/folders/6l/d525srpn1tl8c1jw2pxxkr3m0000gn/T/ipykernel_83020/913056505.py:14: SettingWithCopyWarning: \n",
      "A value is trying to be set on a copy of a slice from a DataFrame\n",
      "\n",
      "See the caveats in the documentation: https://pandas.pydata.org/pandas-docs/stable/user_guide/indexing.html#returning-a-view-versus-a-copy\n",
      "  extracted_df.rename(columns={\"YYYY\": \"year\", \"MM\": \"month\", \"DD\": \"day\"}, inplace=True)\n",
      "/var/folders/6l/d525srpn1tl8c1jw2pxxkr3m0000gn/T/ipykernel_83020/913056505.py:15: SettingWithCopyWarning: \n",
      "A value is trying to be set on a copy of a slice from a DataFrame.\n",
      "Try using .loc[row_indexer,col_indexer] = value instead\n",
      "\n",
      "See the caveats in the documentation: https://pandas.pydata.org/pandas-docs/stable/user_guide/indexing.html#returning-a-view-versus-a-copy\n",
      "  extracted_df['Date'] = pd.to_datetime(extracted_df[[\"year\", \"month\", \"day\"]])\n",
      "/var/folders/6l/d525srpn1tl8c1jw2pxxkr3m0000gn/T/ipykernel_83020/913056505.py:17: SettingWithCopyWarning: \n",
      "A value is trying to be set on a copy of a slice from a DataFrame\n",
      "\n",
      "See the caveats in the documentation: https://pandas.pydata.org/pandas-docs/stable/user_guide/indexing.html#returning-a-view-versus-a-copy\n",
      "  extracted_df.drop(columns=[\"year\", \"month\", \"day\"], inplace=True)\n",
      "/var/folders/6l/d525srpn1tl8c1jw2pxxkr3m0000gn/T/ipykernel_83020/913056505.py:14: SettingWithCopyWarning: \n",
      "A value is trying to be set on a copy of a slice from a DataFrame\n",
      "\n",
      "See the caveats in the documentation: https://pandas.pydata.org/pandas-docs/stable/user_guide/indexing.html#returning-a-view-versus-a-copy\n",
      "  extracted_df.rename(columns={\"YYYY\": \"year\", \"MM\": \"month\", \"DD\": \"day\"}, inplace=True)\n",
      "/var/folders/6l/d525srpn1tl8c1jw2pxxkr3m0000gn/T/ipykernel_83020/913056505.py:15: SettingWithCopyWarning: \n",
      "A value is trying to be set on a copy of a slice from a DataFrame.\n",
      "Try using .loc[row_indexer,col_indexer] = value instead\n",
      "\n",
      "See the caveats in the documentation: https://pandas.pydata.org/pandas-docs/stable/user_guide/indexing.html#returning-a-view-versus-a-copy\n",
      "  extracted_df['Date'] = pd.to_datetime(extracted_df[[\"year\", \"month\", \"day\"]])\n",
      "/var/folders/6l/d525srpn1tl8c1jw2pxxkr3m0000gn/T/ipykernel_83020/913056505.py:17: SettingWithCopyWarning: \n",
      "A value is trying to be set on a copy of a slice from a DataFrame\n",
      "\n",
      "See the caveats in the documentation: https://pandas.pydata.org/pandas-docs/stable/user_guide/indexing.html#returning-a-view-versus-a-copy\n",
      "  extracted_df.drop(columns=[\"year\", \"month\", \"day\"], inplace=True)\n",
      "/var/folders/6l/d525srpn1tl8c1jw2pxxkr3m0000gn/T/ipykernel_83020/913056505.py:14: SettingWithCopyWarning: \n",
      "A value is trying to be set on a copy of a slice from a DataFrame\n",
      "\n",
      "See the caveats in the documentation: https://pandas.pydata.org/pandas-docs/stable/user_guide/indexing.html#returning-a-view-versus-a-copy\n",
      "  extracted_df.rename(columns={\"YYYY\": \"year\", \"MM\": \"month\", \"DD\": \"day\"}, inplace=True)\n",
      "/var/folders/6l/d525srpn1tl8c1jw2pxxkr3m0000gn/T/ipykernel_83020/913056505.py:15: SettingWithCopyWarning: \n",
      "A value is trying to be set on a copy of a slice from a DataFrame.\n",
      "Try using .loc[row_indexer,col_indexer] = value instead\n",
      "\n",
      "See the caveats in the documentation: https://pandas.pydata.org/pandas-docs/stable/user_guide/indexing.html#returning-a-view-versus-a-copy\n",
      "  extracted_df['Date'] = pd.to_datetime(extracted_df[[\"year\", \"month\", \"day\"]])\n",
      "/var/folders/6l/d525srpn1tl8c1jw2pxxkr3m0000gn/T/ipykernel_83020/913056505.py:17: SettingWithCopyWarning: \n",
      "A value is trying to be set on a copy of a slice from a DataFrame\n",
      "\n",
      "See the caveats in the documentation: https://pandas.pydata.org/pandas-docs/stable/user_guide/indexing.html#returning-a-view-versus-a-copy\n",
      "  extracted_df.drop(columns=[\"year\", \"month\", \"day\"], inplace=True)\n",
      "/var/folders/6l/d525srpn1tl8c1jw2pxxkr3m0000gn/T/ipykernel_83020/913056505.py:14: SettingWithCopyWarning: \n",
      "A value is trying to be set on a copy of a slice from a DataFrame\n",
      "\n",
      "See the caveats in the documentation: https://pandas.pydata.org/pandas-docs/stable/user_guide/indexing.html#returning-a-view-versus-a-copy\n",
      "  extracted_df.rename(columns={\"YYYY\": \"year\", \"MM\": \"month\", \"DD\": \"day\"}, inplace=True)\n",
      "/var/folders/6l/d525srpn1tl8c1jw2pxxkr3m0000gn/T/ipykernel_83020/913056505.py:15: SettingWithCopyWarning: \n",
      "A value is trying to be set on a copy of a slice from a DataFrame.\n",
      "Try using .loc[row_indexer,col_indexer] = value instead\n",
      "\n",
      "See the caveats in the documentation: https://pandas.pydata.org/pandas-docs/stable/user_guide/indexing.html#returning-a-view-versus-a-copy\n",
      "  extracted_df['Date'] = pd.to_datetime(extracted_df[[\"year\", \"month\", \"day\"]])\n",
      "/var/folders/6l/d525srpn1tl8c1jw2pxxkr3m0000gn/T/ipykernel_83020/913056505.py:17: SettingWithCopyWarning: \n",
      "A value is trying to be set on a copy of a slice from a DataFrame\n",
      "\n",
      "See the caveats in the documentation: https://pandas.pydata.org/pandas-docs/stable/user_guide/indexing.html#returning-a-view-versus-a-copy\n",
      "  extracted_df.drop(columns=[\"year\", \"month\", \"day\"], inplace=True)\n",
      "/var/folders/6l/d525srpn1tl8c1jw2pxxkr3m0000gn/T/ipykernel_83020/913056505.py:14: SettingWithCopyWarning: \n",
      "A value is trying to be set on a copy of a slice from a DataFrame\n",
      "\n",
      "See the caveats in the documentation: https://pandas.pydata.org/pandas-docs/stable/user_guide/indexing.html#returning-a-view-versus-a-copy\n",
      "  extracted_df.rename(columns={\"YYYY\": \"year\", \"MM\": \"month\", \"DD\": \"day\"}, inplace=True)\n",
      "/var/folders/6l/d525srpn1tl8c1jw2pxxkr3m0000gn/T/ipykernel_83020/913056505.py:15: SettingWithCopyWarning: \n",
      "A value is trying to be set on a copy of a slice from a DataFrame.\n",
      "Try using .loc[row_indexer,col_indexer] = value instead\n",
      "\n",
      "See the caveats in the documentation: https://pandas.pydata.org/pandas-docs/stable/user_guide/indexing.html#returning-a-view-versus-a-copy\n",
      "  extracted_df['Date'] = pd.to_datetime(extracted_df[[\"year\", \"month\", \"day\"]])\n",
      "/var/folders/6l/d525srpn1tl8c1jw2pxxkr3m0000gn/T/ipykernel_83020/913056505.py:17: SettingWithCopyWarning: \n",
      "A value is trying to be set on a copy of a slice from a DataFrame\n",
      "\n",
      "See the caveats in the documentation: https://pandas.pydata.org/pandas-docs/stable/user_guide/indexing.html#returning-a-view-versus-a-copy\n",
      "  extracted_df.drop(columns=[\"year\", \"month\", \"day\"], inplace=True)\n",
      "/var/folders/6l/d525srpn1tl8c1jw2pxxkr3m0000gn/T/ipykernel_83020/913056505.py:14: SettingWithCopyWarning: \n",
      "A value is trying to be set on a copy of a slice from a DataFrame\n",
      "\n",
      "See the caveats in the documentation: https://pandas.pydata.org/pandas-docs/stable/user_guide/indexing.html#returning-a-view-versus-a-copy\n",
      "  extracted_df.rename(columns={\"YYYY\": \"year\", \"MM\": \"month\", \"DD\": \"day\"}, inplace=True)\n",
      "/var/folders/6l/d525srpn1tl8c1jw2pxxkr3m0000gn/T/ipykernel_83020/913056505.py:15: SettingWithCopyWarning: \n",
      "A value is trying to be set on a copy of a slice from a DataFrame.\n",
      "Try using .loc[row_indexer,col_indexer] = value instead\n",
      "\n",
      "See the caveats in the documentation: https://pandas.pydata.org/pandas-docs/stable/user_guide/indexing.html#returning-a-view-versus-a-copy\n",
      "  extracted_df['Date'] = pd.to_datetime(extracted_df[[\"year\", \"month\", \"day\"]])\n",
      "/var/folders/6l/d525srpn1tl8c1jw2pxxkr3m0000gn/T/ipykernel_83020/913056505.py:17: SettingWithCopyWarning: \n",
      "A value is trying to be set on a copy of a slice from a DataFrame\n",
      "\n",
      "See the caveats in the documentation: https://pandas.pydata.org/pandas-docs/stable/user_guide/indexing.html#returning-a-view-versus-a-copy\n",
      "  extracted_df.drop(columns=[\"year\", \"month\", \"day\"], inplace=True)\n",
      "/var/folders/6l/d525srpn1tl8c1jw2pxxkr3m0000gn/T/ipykernel_83020/913056505.py:14: SettingWithCopyWarning: \n",
      "A value is trying to be set on a copy of a slice from a DataFrame\n",
      "\n",
      "See the caveats in the documentation: https://pandas.pydata.org/pandas-docs/stable/user_guide/indexing.html#returning-a-view-versus-a-copy\n",
      "  extracted_df.rename(columns={\"YYYY\": \"year\", \"MM\": \"month\", \"DD\": \"day\"}, inplace=True)\n",
      "/var/folders/6l/d525srpn1tl8c1jw2pxxkr3m0000gn/T/ipykernel_83020/913056505.py:15: SettingWithCopyWarning: \n",
      "A value is trying to be set on a copy of a slice from a DataFrame.\n",
      "Try using .loc[row_indexer,col_indexer] = value instead\n",
      "\n",
      "See the caveats in the documentation: https://pandas.pydata.org/pandas-docs/stable/user_guide/indexing.html#returning-a-view-versus-a-copy\n",
      "  extracted_df['Date'] = pd.to_datetime(extracted_df[[\"year\", \"month\", \"day\"]])\n",
      "/var/folders/6l/d525srpn1tl8c1jw2pxxkr3m0000gn/T/ipykernel_83020/913056505.py:17: SettingWithCopyWarning: \n",
      "A value is trying to be set on a copy of a slice from a DataFrame\n",
      "\n",
      "See the caveats in the documentation: https://pandas.pydata.org/pandas-docs/stable/user_guide/indexing.html#returning-a-view-versus-a-copy\n",
      "  extracted_df.drop(columns=[\"year\", \"month\", \"day\"], inplace=True)\n",
      "/var/folders/6l/d525srpn1tl8c1jw2pxxkr3m0000gn/T/ipykernel_83020/913056505.py:14: SettingWithCopyWarning: \n",
      "A value is trying to be set on a copy of a slice from a DataFrame\n",
      "\n",
      "See the caveats in the documentation: https://pandas.pydata.org/pandas-docs/stable/user_guide/indexing.html#returning-a-view-versus-a-copy\n",
      "  extracted_df.rename(columns={\"YYYY\": \"year\", \"MM\": \"month\", \"DD\": \"day\"}, inplace=True)\n",
      "/var/folders/6l/d525srpn1tl8c1jw2pxxkr3m0000gn/T/ipykernel_83020/913056505.py:15: SettingWithCopyWarning: \n",
      "A value is trying to be set on a copy of a slice from a DataFrame.\n",
      "Try using .loc[row_indexer,col_indexer] = value instead\n",
      "\n",
      "See the caveats in the documentation: https://pandas.pydata.org/pandas-docs/stable/user_guide/indexing.html#returning-a-view-versus-a-copy\n",
      "  extracted_df['Date'] = pd.to_datetime(extracted_df[[\"year\", \"month\", \"day\"]])\n",
      "/var/folders/6l/d525srpn1tl8c1jw2pxxkr3m0000gn/T/ipykernel_83020/913056505.py:17: SettingWithCopyWarning: \n",
      "A value is trying to be set on a copy of a slice from a DataFrame\n",
      "\n",
      "See the caveats in the documentation: https://pandas.pydata.org/pandas-docs/stable/user_guide/indexing.html#returning-a-view-versus-a-copy\n",
      "  extracted_df.drop(columns=[\"year\", \"month\", \"day\"], inplace=True)\n",
      "/var/folders/6l/d525srpn1tl8c1jw2pxxkr3m0000gn/T/ipykernel_83020/913056505.py:14: SettingWithCopyWarning: \n",
      "A value is trying to be set on a copy of a slice from a DataFrame\n",
      "\n",
      "See the caveats in the documentation: https://pandas.pydata.org/pandas-docs/stable/user_guide/indexing.html#returning-a-view-versus-a-copy\n",
      "  extracted_df.rename(columns={\"YYYY\": \"year\", \"MM\": \"month\", \"DD\": \"day\"}, inplace=True)\n",
      "/var/folders/6l/d525srpn1tl8c1jw2pxxkr3m0000gn/T/ipykernel_83020/913056505.py:15: SettingWithCopyWarning: \n",
      "A value is trying to be set on a copy of a slice from a DataFrame.\n",
      "Try using .loc[row_indexer,col_indexer] = value instead\n",
      "\n",
      "See the caveats in the documentation: https://pandas.pydata.org/pandas-docs/stable/user_guide/indexing.html#returning-a-view-versus-a-copy\n",
      "  extracted_df['Date'] = pd.to_datetime(extracted_df[[\"year\", \"month\", \"day\"]])\n",
      "/var/folders/6l/d525srpn1tl8c1jw2pxxkr3m0000gn/T/ipykernel_83020/913056505.py:17: SettingWithCopyWarning: \n",
      "A value is trying to be set on a copy of a slice from a DataFrame\n",
      "\n",
      "See the caveats in the documentation: https://pandas.pydata.org/pandas-docs/stable/user_guide/indexing.html#returning-a-view-versus-a-copy\n",
      "  extracted_df.drop(columns=[\"year\", \"month\", \"day\"], inplace=True)\n"
     ]
    }
   ],
   "source": [
    "HighEmission = \"_ssp370\"\n",
    "LowEmission = \"_ssp126\"\n",
    "\n",
    "# columns to extract\n",
    "cols_to_extract = [\"YYYY\", \"MM\", \"DD\", \"TMIN\", \"TMAX\", \"RAIN\"]\n",
    "\n",
    "# across the two locations, extract the columns of interest\n",
    "\n",
    "def extract_columns(location, emission):\n",
    "    extracted_dfs = {}\n",
    "    for key, df in location.items():\n",
    "        if emission in key:\n",
    "            extracted_df = df[cols_to_extract]\n",
    "            extracted_df.rename(columns={\"YYYY\": \"year\", \"MM\": \"month\", \"DD\": \"day\"}, inplace=True)\n",
    "            extracted_df['Date'] = pd.to_datetime(extracted_df[[\"year\", \"month\", \"day\"]])\n",
    "            extracted_df.set_index(\"Date\", inplace=True)\n",
    "            extracted_df.drop(columns=[\"year\", \"month\", \"day\"], inplace=True)\n",
    "            climate_model = key.split(\"_\")[0]\n",
    "            extracted_dfs[climate_model] = extracted_df\n",
    "    return extracted_dfs\n",
    "\n",
    "location1_high = extract_columns(location1, HighEmission)\n",
    "location1_low = extract_columns(location1, LowEmission)\n",
    "\n",
    "location2_high = extract_columns(location2, HighEmission)\n",
    "location2_low = extract_columns(location2, LowEmission)\n"
   ]
  },
  {
   "cell_type": "code",
   "execution_count": 89,
   "metadata": {},
   "outputs": [],
   "source": [
    "# take the average of the two locations for both the high and low emissions\n",
    "\n",
    "def average_locations(location1, location2):\n",
    "    avg_dfs = {}\n",
    "    for key in location1.keys():\n",
    "        avg_df = (location1[key] + location2[key]) / 2\n",
    "        avg_dfs[key] = avg_df\n",
    "    return avg_dfs\n",
    "\n",
    "locations_high_avg = average_locations(location1_high, location2_high)\n",
    "locations_low_avg = average_locations(location1_low, location2_low)"
   ]
  },
  {
   "cell_type": "code",
   "execution_count": 95,
   "metadata": {},
   "outputs": [
    {
     "name": "stdout",
     "output_type": "stream",
     "text": [
      "Creating directory Extractions/FutureClimateData/GFDL-ESM4/HighEmission\n",
      "Extracted GFDL-ESM4 into Extractions/FutureClimateData/GFDL-ESM4/HighEmission/future_climate_variables.csv\n",
      "Creating directory Extractions/FutureClimateData/IPSL-CM6A-LR/HighEmission\n",
      "Extracted IPSL-CM6A-LR into Extractions/FutureClimateData/IPSL-CM6A-LR/HighEmission/future_climate_variables.csv\n",
      "Creating directory Extractions/FutureClimateData/MPI-ESM1-2-HR/HighEmission\n",
      "Extracted MPI-ESM1-2-HR into Extractions/FutureClimateData/MPI-ESM1-2-HR/HighEmission/future_climate_variables.csv\n",
      "Creating directory Extractions/FutureClimateData/MRI-ESM2-0/HighEmission\n",
      "Extracted MRI-ESM2-0 into Extractions/FutureClimateData/MRI-ESM2-0/HighEmission/future_climate_variables.csv\n",
      "Creating directory Extractions/FutureClimateData/UKESM1-0-LL/HighEmission\n",
      "Extracted UKESM1-0-LL into Extractions/FutureClimateData/UKESM1-0-LL/HighEmission/future_climate_variables.csv\n"
     ]
    }
   ],
   "source": [
    "# write the extracted data to csv files\n",
    "run_dir = \"FutureClimateData\"\n",
    "out_dir = \"Extractions\"\n",
    "\n",
    "\n",
    "for key, df in locations_high_avg.items():\n",
    "    out_path = os.path.join(out_dir, run_dir, key, \"HighEmission\")\n",
    "    if not os.path.exists(out_path):\n",
    "        print(\"Creating directory %s\" % out_path)\n",
    "        os.makedirs(out_path)\n",
    "    out_file = os.path.join(out_path, \"future_climate_variables.csv\")\n",
    "    df.to_csv(out_file, index=True, header=True)\n",
    "    print(\"Extracted %s into %s\" % (key, out_file))\n",
    "    "
   ]
  },
  {
   "cell_type": "code",
   "execution_count": 96,
   "metadata": {},
   "outputs": [
    {
     "name": "stdout",
     "output_type": "stream",
     "text": [
      "Creating directory Extractions/FutureClimateData/GFDL-ESM4/LowEmission\n",
      "Extracted GFDL-ESM4 into Extractions/FutureClimateData/GFDL-ESM4/LowEmission/future_climate_variables.csv\n",
      "Creating directory Extractions/FutureClimateData/IPSL-CM6A-LR/LowEmission\n",
      "Extracted IPSL-CM6A-LR into Extractions/FutureClimateData/IPSL-CM6A-LR/LowEmission/future_climate_variables.csv\n",
      "Creating directory Extractions/FutureClimateData/MPI-ESM1-2-HR/LowEmission\n",
      "Extracted MPI-ESM1-2-HR into Extractions/FutureClimateData/MPI-ESM1-2-HR/LowEmission/future_climate_variables.csv\n",
      "Creating directory Extractions/FutureClimateData/MRI-ESM2-0/LowEmission\n",
      "Extracted MRI-ESM2-0 into Extractions/FutureClimateData/MRI-ESM2-0/LowEmission/future_climate_variables.csv\n",
      "Creating directory Extractions/FutureClimateData/UKESM1-0-LL/LowEmission\n",
      "Extracted UKESM1-0-LL into Extractions/FutureClimateData/UKESM1-0-LL/LowEmission/future_climate_variables.csv\n"
     ]
    }
   ],
   "source": [
    "# write the extracted data to csv files\n",
    "run_dir = \"FutureClimateData\"\n",
    "out_dir = \"Extractions\"\n",
    "\n",
    "\n",
    "for key, df in locations_low_avg.items():\n",
    "    out_path = os.path.join(out_dir, run_dir, key, \"LowEmission\")\n",
    "    if not os.path.exists(out_path):\n",
    "        print(\"Creating directory %s\" % out_path)\n",
    "        os.makedirs(out_path)\n",
    "    out_file = os.path.join(out_path, \"future_climate_variables.csv\")\n",
    "    df.to_csv(out_file, index=True, header=True)\n",
    "    print(\"Extracted %s into %s\" % (key, out_file))\n"
   ]
  }
 ],
 "metadata": {
  "kernelspec": {
   "display_name": "nasa",
   "language": "python",
   "name": "python3"
  },
  "language_info": {
   "codemirror_mode": {
    "name": "ipython",
    "version": 3
   },
   "file_extension": ".py",
   "mimetype": "text/x-python",
   "name": "python",
   "nbconvert_exporter": "python",
   "pygments_lexer": "ipython3",
   "version": "3.11.3"
  }
 },
 "nbformat": 4,
 "nbformat_minor": 2
}
